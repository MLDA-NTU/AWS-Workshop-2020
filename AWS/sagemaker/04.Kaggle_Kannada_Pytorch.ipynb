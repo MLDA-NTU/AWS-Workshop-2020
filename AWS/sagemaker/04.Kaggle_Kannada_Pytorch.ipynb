{
 "cells": [
  {
   "cell_type": "markdown",
   "metadata": {},
   "source": [
    "# Kaggle Workflow using Pytorch: Kannada MNIST"
   ]
  },
  {
   "cell_type": "markdown",
   "metadata": {},
   "source": [
    "## Table of Contents\n",
    "\n",
    "1. [Getting Started](#Getting-Started)\n",
    "    1. [Background](#Background)\n",
    "    1. [Goal](#Goal)\n",
    "    1. [Packages](#Packages)\n",
    "1. [Meet and Greet Data](#Meet-and-Greet-Data,-Kaggle-Kannada-MNIST)\n",
    "1. [Building and Training CNN Model](#Building-and-Training-CNN-Model)\n",
    "1. [Training Session](#Training-Session)\n",
    "\n",
    "---\n",
    "\n",
    "\n",
    "## Getting Started\n",
    "\n",
    "<img src=\"images/kannada_num.png\" width=400 height=300></img>\n",
    "\n",
    "### Background\n",
    "Kannada is a language spoken predominantly by people of Karnataka in southwestern India. The language has roughly 45 million native speakers and is written using the Kannada script. [Wikipedia](https://en.wikipedia.org/wiki/Kannada)\n",
    "\n",
    "The challenge faced by many industry and banking instances in India is to build a Optical Character Recognition that can detect Kannada digits from handwriting in cheques, written documents, etc to automate important task. By building a simple digit recognition, we can help many bussiness which application relies on reading handwritten digits, e.g. automating thousands of transaction from bank cheque validation.\n",
    "\n",
    "A study in the paper of: Prabhu, Vinay Uday nicely captured the Kannada handwritten digits and the author has kindly shared with us the dataset we can experiment with. \"Kannada-MNIST: A new handwritten digits dataset for the Kannada language.\" arXiv preprint [arXiv:1908.01242 (2019)](https://arxiv.org/abs/1908.01242).\n"
   ]
  },
  {
   "cell_type": "markdown",
   "metadata": {},
   "source": [
    "### Goal\n",
    "This tutorial will show you how to build a convolutional neural network using Pytorch. The dataset we are using is the [Kannada MNIST dataset](https://www.kaggle.com/c/Kannada-MNIST), a playground dataset from Kaggle. Here you can expect to get an insight about:\n",
    "- Using Pytorch for data science modelling\n",
    "- Get to know the workflow when participating in data science competition in [Kaggle](https://www.kaggle.com/) platform\n",
    "- Understand about [Convolutional Neural Network](http://cs231n.stanford.edu/) for modelling Image Classification problem.\n",
    "\n",
    "For more information about the PyTorch, please visit [Pytorch official website](https://pytorch.org/)"
   ]
  },
  {
   "cell_type": "markdown",
   "metadata": {},
   "source": [
    "### Packages\n",
    "\n",
    "We will also setup our project by specifying libraries and modules that we need"
   ]
  },
  {
   "cell_type": "code",
   "execution_count": 1,
   "metadata": {},
   "outputs": [],
   "source": [
    "%%bash\n",
    "pip3 install --quiet torchsummary"
   ]
  },
  {
   "cell_type": "code",
   "execution_count": 55,
   "metadata": {},
   "outputs": [],
   "source": [
    "# standard library\n",
    "import os, sys\n",
    "import math\n",
    "import json, logging, argparse"
   ]
  },
  {
   "cell_type": "code",
   "execution_count": 56,
   "metadata": {},
   "outputs": [],
   "source": [
    "# data analytics library\n",
    "import numpy as np\n",
    "import pandas as pd"
   ]
  },
  {
   "cell_type": "code",
   "execution_count": 34,
   "metadata": {},
   "outputs": [],
   "source": [
    "# Pytorch Library\n",
    "import torch\n",
    "import torch.nn as nn\n",
    "import torch.distributed as dist\n",
    "import torch.optim as optim\n",
    "import torch.nn.functional as F\n",
    "\n",
    "# Pytorch Utilities and Vision Library\n",
    "from torch.utils.data import Dataset, DataLoader\n",
    "from torch.utils.data.distributed import DistributedSampler\n",
    "\n",
    "from torchvision import datasets, transforms\n",
    "from torchsummary import summary"
   ]
  },
  {
   "cell_type": "code",
   "execution_count": 54,
   "metadata": {},
   "outputs": [],
   "source": [
    "# visualisation\n",
    "import matplotlib.pyplot as plt\n",
    "import seaborn as sns\n",
    "\n",
    "%matplotlib inline"
   ]
  },
  {
   "cell_type": "code",
   "execution_count": 53,
   "metadata": {},
   "outputs": [
    {
     "data": {
      "text/html": [
       "<style>\n",
       "    table {\n",
       "        display: inline-block\n",
       "    }\n",
       "</style>\n"
      ],
      "text/plain": [
       "<IPython.core.display.HTML object>"
      ]
     },
     "metadata": {},
     "output_type": "display_data"
    }
   ],
   "source": [
    "%%html\n",
    "<style>\n",
    "    table {\n",
    "        display: inline-block\n",
    "    }\n",
    "</style>"
   ]
  },
  {
   "cell_type": "code",
   "execution_count": 3,
   "metadata": {},
   "outputs": [],
   "source": [
    "device = torch.device('cuda:0' if torch.cuda.is_available() else 'cpu')"
   ]
  },
  {
   "cell_type": "markdown",
   "metadata": {},
   "source": [
    "## Meet and Greet Data, Kaggle Kannada MNIST\n",
    "_(Duration: 20 min)_\n",
    "\n",
    "### Kannada MNIST Dataset Structure\n",
    "\n",
    "![Kannada](images/kannada_banner.png)\n",
    " \n",
    "#### From the official description:\n",
    "\n",
    "The data files `train.csv` and `test.csv` contain gray-scale images of hand-drawn digits, from zero through nine, in the Kannada script.\n",
    "\n",
    "Each image is 28 pixels in height and 28 pixels in width, for a total of 784 pixels in total. Each pixel has a single pixel-value associated with it, indicating the lightness or darkness of that pixel, with higher numbers meaning darker. This pixel-value is an integer between 0 and 255, inclusive.\n",
    "\n",
    "The training data set, `train.csv`, has 785 columns. The first column, called label, is the digit that was drawn by the user. The rest of the columns contain the pixel-values of the associated image.\n",
    "\n",
    "Each pixel column in the training set has a name like pixel$x$, where $x$ is an integer between 0 and 783, inclusive. To locate this pixel on the image, suppose that we have decomposed $x$ as $x = i . 28 + j$, where i and $j$ are integers between 0 and 27, inclusive. Then pixel $x$ is located on row $i$ and column $j$ of a 28 x 28 matrix, (indexing by zero).\n",
    "\n",
    "In addition to the main dataset, the author also disseminated an additional real world handwritten dataset (with 10k images), termed as the `Dig-MNIST dataset` that can serve as an out-of-domain test dataset. It was created with the help of volunteers that were non-native users of the language, authored on a smaller sheet and scanned with different scanner settings compared to the main dataset. This 'dig-MNIST' dataset serves as a more difficult test-set (An accuracy of 76.1% was reported in the paper cited above) and achieving ~98+% accuracy on this test dataset would be rather commendable."
   ]
  },
  {
   "cell_type": "code",
   "execution_count": 4,
   "metadata": {},
   "outputs": [],
   "source": [
    "data_dir = 'data/Kannada'"
   ]
  },
  {
   "cell_type": "markdown",
   "metadata": {},
   "source": [
    "### Downloading Kaggle Dataset\n",
    "\n",
    "In this workshop, we will quickly demonstrate how to download kaggle datasets into our jupyter environment. Kaggle has been and remains the de factor platform to try your hands on data science projects. The platform has huge rich free datasets for machine learning projects."
   ]
  },
  {
   "cell_type": "markdown",
   "metadata": {},
   "source": [
    "#### Step 1\n",
    "Create a kaggle account if you do not have one already. Click on your user name, click on account.\n",
    "\n",
    "<img src=\"images/kaggle_profile.png\" width=400 height=250></img>"
   ]
  },
  {
   "cell_type": "markdown",
   "metadata": {},
   "source": [
    "#### Step 2\n",
    "Scroll down to click on create new API token. This will download a file unto your PC. Note the location of the downloaded file and move to the downloaded kaggle key file next to this notebook directory (just for convenience).\n",
    "<img src=\"images/kaggle_api_cred.png\" width=800 height=550></img>"
   ]
  },
  {
   "cell_type": "markdown",
   "metadata": {},
   "source": [
    "#### Step3\n",
    "Next we are going to use Kaggle API to download our Kannada MNIST dataset. The following cell contains bash command which will download our Kannada MNIST dataset to a folder called `data/Kannada/raw`. First we need to setup a few things before we make the API call.\n",
    "\n",
    "- First, we will install kaggle client API using `$ pip3 install kaggle`. The flag `--quiet` is optional\n",
    "- Then we create a directory called `~/.kaggle` which will be default folder to store our credential\n",
    "- We then copy over our kaggle credential in kaggle.json to `~/.kaggle` directory so that kaggle API can find it"
   ]
  },
  {
   "cell_type": "code",
   "execution_count": 5,
   "metadata": {},
   "outputs": [],
   "source": [
    "%%bash\n",
    "## Install Kaggle CLI using Python Pip\n",
    "pip3 install --quiet kaggle\n",
    "mkdir -p ~/.kaggle\n",
    "\n",
    "## Copy API key file to where Kaggle expects it\n",
    "## Make sure to download the kaggle key file next to this notebook\n",
    "cp kaggle.json ~/.kaggle/kaggle.json && chmod 600 ~/.kaggle/kaggle.json"
   ]
  },
  {
   "cell_type": "code",
   "execution_count": 6,
   "metadata": {},
   "outputs": [
    {
     "name": "stdout",
     "output_type": "stream",
     "text": [
      "kaggle.json\r\n"
     ]
    }
   ],
   "source": [
    "# Make user the Kaggle API credential is in ~/.kaggle/kaggle.json\n",
    "! ls ~/.kaggle"
   ]
  },
  {
   "cell_type": "markdown",
   "metadata": {},
   "source": [
    "#### Step 4\n",
    "Next we downloaded the data using Kaggle client and make an API call to stream the data. Once we receive the data, we unzip them into a folder we have prepared in `data/Kannada/raw`\n",
    "- Using the credential, kaggle API will be able to authenticate us. Then the download begin when we run `$ kaggle competitions download -c Kannada-MNIST`\n",
    "- Finally, we unzip the data once we finish the download to a folder called `data/Kannada/raw`"
   ]
  },
  {
   "cell_type": "code",
   "execution_count": 7,
   "metadata": {},
   "outputs": [
    {
     "name": "stdout",
     "output_type": "stream",
     "text": [
      "Downloading Kannada-MNIST.zip to /home/iqdf/Development/MachineLearning/aws-workshop-2020/AWS/sagemaker\n",
      "\n",
      "Archive:  Kannada-MNIST.zip\n",
      "  inflating: data/Kannada/raw/Dig-MNIST.csv  \n",
      "  inflating: data/Kannada/raw/sample_submission.csv  \n",
      "  inflating: data/Kannada/raw/test.csv  \n",
      "  inflating: data/Kannada/raw/train.csv  \n"
     ]
    },
    {
     "name": "stderr",
     "output_type": "stream",
     "text": [
      "\r",
      "  0%|          | 0.00/12.4M [00:00<?, ?B/s]\r",
      " 24%|██▍       | 3.00M/12.4M [00:00<00:00, 31.3MB/s]\r",
      " 40%|████      | 5.00M/12.4M [00:01<00:02, 3.72MB/s]\r",
      " 64%|██████▍   | 8.00M/12.4M [00:01<00:00, 5.03MB/s]\r",
      " 97%|█████████▋| 12.0M/12.4M [00:02<00:00, 6.81MB/s]\r",
      "100%|██████████| 12.4M/12.4M [00:02<00:00, 6.32MB/s]\n"
     ]
    }
   ],
   "source": [
    "%%bash\n",
    "\n",
    "## Download Kannada MNIST from Kaggle\n",
    "kaggle competitions download -c Kannada-MNIST\n",
    "\n",
    "## Create our data directory\n",
    "mkdir -p data/Kannada/raw\n",
    "mkdir -p data/Kannada/processed\n",
    "\n",
    "## Unzip to data/Kannada directory\n",
    "unzip Kannada-MNIST.zip -d data/Kannada/raw"
   ]
  },
  {
   "cell_type": "markdown",
   "metadata": {},
   "source": [
    "It's always a good practice to seperate raw data we just downloaded into a folder called 'raw'. Along the process, we will encounter a situation where we have pre-processed/cleaned our dataset and would like to store them seperately from the raw data.\n",
    "\n",
    "Now let's check the content of our dataset in `raw` folder. We see several files here:"
   ]
  },
  {
   "cell_type": "code",
   "execution_count": 8,
   "metadata": {},
   "outputs": [
    {
     "name": "stdout",
     "output_type": "stream",
     "text": [
      "data at: data/Kannada/raw/sample_submission.csv\n",
      "data at: data/Kannada/raw/train.csv\n",
      "data at: data/Kannada/raw/test.csv\n",
      "data at: data/Kannada/raw/Dig-MNIST.csv\n"
     ]
    }
   ],
   "source": [
    "# Check the data folder content\n",
    "for dirname, _, filenames in os.walk(data_dir):\n",
    "    for filename in filenames:\n",
    "        print('data at: ' + os.path.join(dirname, filename))"
   ]
  },
  {
   "cell_type": "markdown",
   "metadata": {},
   "source": [
    "### Dataset Files\n",
    "\n",
    "There are 4 files we get after downloading the data from Kaggle. According to the official docs above, the files summary is as follows:\n",
    "- `train.csv` - the training set. The first column of every row is the label, the rest 784 values in the same row is the pixel value of our image with flattened structure defined above.\n",
    "- `Dig-MNIST.csv`: this is similar to image training set in `train.csv`. The contributor provide this set kindly to allow us to have a validation/testing set before we make a submission.\n",
    "- `test.csv`: the submission set. Unlike the `train.csv` and `Dig-MNIST.csv` it doesn't come with label because it suppose to be our submission for the competition. We will refer data from this file as *submission set* from now on.\n",
    "- `sample_submission.csv` - a sample submission file in the correct format"
   ]
  },
  {
   "cell_type": "markdown",
   "metadata": {},
   "source": [
    "### Understanding the Data \n",
    "\n",
    "- We have training and test set CSV files,\n",
    "- In order to evaluate the generalization skill of the model we will split our training set into training and validation.\n",
    "- After training the data, Kaggle will evaluate the final performance of our data with test set predictions from `Dig-MNIST.csv`\n",
    "- Then we will make a Kaggle submission from `test.csv` to Kaggle. Note that this dataset will not have labels and hence we can't make evaluation until we submit."
   ]
  },
  {
   "cell_type": "markdown",
   "metadata": {},
   "source": [
    "### Loading Dataset with Pandas\n",
    "\n",
    "Let's read our dataset"
   ]
  },
  {
   "cell_type": "code",
   "execution_count": 9,
   "metadata": {},
   "outputs": [],
   "source": [
    "from sklearn.model_selection import train_test_split\n",
    "\n",
    "# # Load Data\n",
    "train = pd.read_csv(os.path.join(data_dir, 'raw/train.csv'))\n",
    "test = pd.read_csv(os.path.join(data_dir, 'raw/Dig-MNIST.csv'))  # this will be our test set for evaluation\n",
    "submission_set = pd.read_csv(os.path.join(data_dir, 'raw/test.csv')).iloc[:,1:]  # this set is only for submission\n",
    "\n",
    "# # Seperate train data and labels\n",
    "train_data = train.drop('label',axis=1)\n",
    "train_targets = train['label']\n",
    "\n",
    "# # Seperate test data and labels\n",
    "test_images=test.drop('label',axis=1)\n",
    "test_labels=test['label']"
   ]
  },
  {
   "cell_type": "markdown",
   "metadata": {},
   "source": [
    "* We have $28$x$28$ dimension handwritten pics.\n",
    "* Dataset has been already flattened and has 784-pixel values for each pic.\n",
    "* Totaly we have $60000$ pics in training set."
   ]
  },
  {
   "cell_type": "code",
   "execution_count": 11,
   "metadata": {},
   "outputs": [],
   "source": [
    "# Reset Index\n",
    "train_images.reset_index(drop=True, inplace=True)\n",
    "train_labels.reset_index(drop=True, inplace=True)\n",
    "\n",
    "val_images.reset_index(drop=True, inplace=True)\n",
    "val_labels.reset_index(drop=True, inplace=True)\n",
    "\n",
    "test_images.reset_index(drop=True, inplace=True)\n",
    "test_labels.reset_index(drop=True, inplace=True)"
   ]
  },
  {
   "cell_type": "markdown",
   "metadata": {},
   "source": [
    "#### Overview\n",
    "\n",
    "Let's look at the content of the files. There are things to take note regarding our data:\n",
    "- The content of our file is flattened image. Originally, each row was a 28 x 28 pixels image. \n",
    "- The each image is flattened into 784 row and saved into a `.csv` file. \n",
    "- The image itself is `Gray` image, which means it only has one channel "
   ]
  },
  {
   "cell_type": "code",
   "execution_count": 48,
   "metadata": {},
   "outputs": [
    {
     "data": {
      "text/html": [
       "<div>\n",
       "<style scoped>\n",
       "    .dataframe tbody tr th:only-of-type {\n",
       "        vertical-align: middle;\n",
       "    }\n",
       "\n",
       "    .dataframe tbody tr th {\n",
       "        vertical-align: top;\n",
       "    }\n",
       "\n",
       "    .dataframe thead th {\n",
       "        text-align: right;\n",
       "    }\n",
       "</style>\n",
       "<table border=\"1\" class=\"dataframe\">\n",
       "  <thead>\n",
       "    <tr style=\"text-align: right;\">\n",
       "      <th></th>\n",
       "      <th>pixel490</th>\n",
       "      <th>pixel491</th>\n",
       "      <th>pixel492</th>\n",
       "      <th>pixel493</th>\n",
       "      <th>pixel494</th>\n",
       "      <th>pixel495</th>\n",
       "      <th>pixel496</th>\n",
       "      <th>pixel497</th>\n",
       "      <th>pixel498</th>\n",
       "      <th>pixel499</th>\n",
       "      <th>...</th>\n",
       "      <th>pixel510</th>\n",
       "      <th>pixel511</th>\n",
       "      <th>pixel512</th>\n",
       "      <th>pixel513</th>\n",
       "      <th>pixel514</th>\n",
       "      <th>pixel515</th>\n",
       "      <th>pixel516</th>\n",
       "      <th>pixel517</th>\n",
       "      <th>pixel518</th>\n",
       "      <th>pixel519</th>\n",
       "    </tr>\n",
       "  </thead>\n",
       "  <tbody>\n",
       "    <tr>\n",
       "      <th>0</th>\n",
       "      <td>0</td>\n",
       "      <td>0</td>\n",
       "      <td>207</td>\n",
       "      <td>16</td>\n",
       "      <td>0</td>\n",
       "      <td>0</td>\n",
       "      <td>0</td>\n",
       "      <td>0</td>\n",
       "      <td>0</td>\n",
       "      <td>0</td>\n",
       "      <td>...</td>\n",
       "      <td>0</td>\n",
       "      <td>0</td>\n",
       "      <td>0</td>\n",
       "      <td>0</td>\n",
       "      <td>239</td>\n",
       "      <td>0</td>\n",
       "      <td>0</td>\n",
       "      <td>0</td>\n",
       "      <td>0</td>\n",
       "      <td>0</td>\n",
       "    </tr>\n",
       "    <tr>\n",
       "      <th>1</th>\n",
       "      <td>0</td>\n",
       "      <td>0</td>\n",
       "      <td>0</td>\n",
       "      <td>0</td>\n",
       "      <td>217</td>\n",
       "      <td>12</td>\n",
       "      <td>0</td>\n",
       "      <td>0</td>\n",
       "      <td>0</td>\n",
       "      <td>0</td>\n",
       "      <td>...</td>\n",
       "      <td>0</td>\n",
       "      <td>0</td>\n",
       "      <td>0</td>\n",
       "      <td>0</td>\n",
       "      <td>43</td>\n",
       "      <td>217</td>\n",
       "      <td>0</td>\n",
       "      <td>0</td>\n",
       "      <td>0</td>\n",
       "      <td>0</td>\n",
       "    </tr>\n",
       "    <tr>\n",
       "      <th>2</th>\n",
       "      <td>0</td>\n",
       "      <td>0</td>\n",
       "      <td>0</td>\n",
       "      <td>0</td>\n",
       "      <td>96</td>\n",
       "      <td>255</td>\n",
       "      <td>0</td>\n",
       "      <td>0</td>\n",
       "      <td>0</td>\n",
       "      <td>0</td>\n",
       "      <td>...</td>\n",
       "      <td>0</td>\n",
       "      <td>0</td>\n",
       "      <td>0</td>\n",
       "      <td>159</td>\n",
       "      <td>159</td>\n",
       "      <td>0</td>\n",
       "      <td>0</td>\n",
       "      <td>0</td>\n",
       "      <td>0</td>\n",
       "      <td>0</td>\n",
       "    </tr>\n",
       "    <tr>\n",
       "      <th>3</th>\n",
       "      <td>0</td>\n",
       "      <td>0</td>\n",
       "      <td>0</td>\n",
       "      <td>0</td>\n",
       "      <td>0</td>\n",
       "      <td>0</td>\n",
       "      <td>0</td>\n",
       "      <td>0</td>\n",
       "      <td>0</td>\n",
       "      <td>0</td>\n",
       "      <td>...</td>\n",
       "      <td>0</td>\n",
       "      <td>0</td>\n",
       "      <td>0</td>\n",
       "      <td>0</td>\n",
       "      <td>180</td>\n",
       "      <td>185</td>\n",
       "      <td>0</td>\n",
       "      <td>0</td>\n",
       "      <td>0</td>\n",
       "      <td>0</td>\n",
       "    </tr>\n",
       "    <tr>\n",
       "      <th>4</th>\n",
       "      <td>65</td>\n",
       "      <td>0</td>\n",
       "      <td>0</td>\n",
       "      <td>0</td>\n",
       "      <td>0</td>\n",
       "      <td>0</td>\n",
       "      <td>0</td>\n",
       "      <td>0</td>\n",
       "      <td>0</td>\n",
       "      <td>0</td>\n",
       "      <td>...</td>\n",
       "      <td>0</td>\n",
       "      <td>0</td>\n",
       "      <td>0</td>\n",
       "      <td>0</td>\n",
       "      <td>255</td>\n",
       "      <td>35</td>\n",
       "      <td>0</td>\n",
       "      <td>0</td>\n",
       "      <td>0</td>\n",
       "      <td>0</td>\n",
       "    </tr>\n",
       "    <tr>\n",
       "      <th>5</th>\n",
       "      <td>140</td>\n",
       "      <td>0</td>\n",
       "      <td>0</td>\n",
       "      <td>0</td>\n",
       "      <td>0</td>\n",
       "      <td>0</td>\n",
       "      <td>0</td>\n",
       "      <td>0</td>\n",
       "      <td>0</td>\n",
       "      <td>0</td>\n",
       "      <td>...</td>\n",
       "      <td>0</td>\n",
       "      <td>0</td>\n",
       "      <td>0</td>\n",
       "      <td>0</td>\n",
       "      <td>0</td>\n",
       "      <td>7</td>\n",
       "      <td>86</td>\n",
       "      <td>142</td>\n",
       "      <td>0</td>\n",
       "      <td>0</td>\n",
       "    </tr>\n",
       "    <tr>\n",
       "      <th>6</th>\n",
       "      <td>255</td>\n",
       "      <td>255</td>\n",
       "      <td>0</td>\n",
       "      <td>0</td>\n",
       "      <td>0</td>\n",
       "      <td>0</td>\n",
       "      <td>0</td>\n",
       "      <td>0</td>\n",
       "      <td>0</td>\n",
       "      <td>0</td>\n",
       "      <td>...</td>\n",
       "      <td>0</td>\n",
       "      <td>0</td>\n",
       "      <td>0</td>\n",
       "      <td>0</td>\n",
       "      <td>0</td>\n",
       "      <td>0</td>\n",
       "      <td>0</td>\n",
       "      <td>255</td>\n",
       "      <td>0</td>\n",
       "      <td>255</td>\n",
       "    </tr>\n",
       "    <tr>\n",
       "      <th>7</th>\n",
       "      <td>0</td>\n",
       "      <td>16</td>\n",
       "      <td>32</td>\n",
       "      <td>32</td>\n",
       "      <td>32</td>\n",
       "      <td>32</td>\n",
       "      <td>109</td>\n",
       "      <td>255</td>\n",
       "      <td>0</td>\n",
       "      <td>0</td>\n",
       "      <td>...</td>\n",
       "      <td>0</td>\n",
       "      <td>0</td>\n",
       "      <td>0</td>\n",
       "      <td>0</td>\n",
       "      <td>167</td>\n",
       "      <td>147</td>\n",
       "      <td>0</td>\n",
       "      <td>0</td>\n",
       "      <td>0</td>\n",
       "      <td>112</td>\n",
       "    </tr>\n",
       "    <tr>\n",
       "      <th>8</th>\n",
       "      <td>0</td>\n",
       "      <td>0</td>\n",
       "      <td>0</td>\n",
       "      <td>0</td>\n",
       "      <td>182</td>\n",
       "      <td>146</td>\n",
       "      <td>0</td>\n",
       "      <td>0</td>\n",
       "      <td>0</td>\n",
       "      <td>0</td>\n",
       "      <td>...</td>\n",
       "      <td>0</td>\n",
       "      <td>0</td>\n",
       "      <td>146</td>\n",
       "      <td>182</td>\n",
       "      <td>0</td>\n",
       "      <td>0</td>\n",
       "      <td>0</td>\n",
       "      <td>0</td>\n",
       "      <td>0</td>\n",
       "      <td>0</td>\n",
       "    </tr>\n",
       "    <tr>\n",
       "      <th>9</th>\n",
       "      <td>0</td>\n",
       "      <td>0</td>\n",
       "      <td>0</td>\n",
       "      <td>0</td>\n",
       "      <td>114</td>\n",
       "      <td>43</td>\n",
       "      <td>0</td>\n",
       "      <td>0</td>\n",
       "      <td>0</td>\n",
       "      <td>0</td>\n",
       "      <td>...</td>\n",
       "      <td>0</td>\n",
       "      <td>0</td>\n",
       "      <td>17</td>\n",
       "      <td>230</td>\n",
       "      <td>169</td>\n",
       "      <td>32</td>\n",
       "      <td>10</td>\n",
       "      <td>216</td>\n",
       "      <td>0</td>\n",
       "      <td>0</td>\n",
       "    </tr>\n",
       "  </tbody>\n",
       "</table>\n",
       "<p>10 rows × 30 columns</p>\n",
       "</div>"
      ],
      "text/plain": [
       "   pixel490  pixel491  pixel492  pixel493  pixel494  pixel495  pixel496  \\\n",
       "0         0         0       207        16         0         0         0   \n",
       "1         0         0         0         0       217        12         0   \n",
       "2         0         0         0         0        96       255         0   \n",
       "3         0         0         0         0         0         0         0   \n",
       "4        65         0         0         0         0         0         0   \n",
       "5       140         0         0         0         0         0         0   \n",
       "6       255       255         0         0         0         0         0   \n",
       "7         0        16        32        32        32        32       109   \n",
       "8         0         0         0         0       182       146         0   \n",
       "9         0         0         0         0       114        43         0   \n",
       "\n",
       "   pixel497  pixel498  pixel499  ...  pixel510  pixel511  pixel512  pixel513  \\\n",
       "0         0         0         0  ...         0         0         0         0   \n",
       "1         0         0         0  ...         0         0         0         0   \n",
       "2         0         0         0  ...         0         0         0       159   \n",
       "3         0         0         0  ...         0         0         0         0   \n",
       "4         0         0         0  ...         0         0         0         0   \n",
       "5         0         0         0  ...         0         0         0         0   \n",
       "6         0         0         0  ...         0         0         0         0   \n",
       "7       255         0         0  ...         0         0         0         0   \n",
       "8         0         0         0  ...         0         0       146       182   \n",
       "9         0         0         0  ...         0         0        17       230   \n",
       "\n",
       "   pixel514  pixel515  pixel516  pixel517  pixel518  pixel519  \n",
       "0       239         0         0         0         0         0  \n",
       "1        43       217         0         0         0         0  \n",
       "2       159         0         0         0         0         0  \n",
       "3       180       185         0         0         0         0  \n",
       "4       255        35         0         0         0         0  \n",
       "5         0         7        86       142         0         0  \n",
       "6         0         0         0       255         0       255  \n",
       "7       167       147         0         0         0       112  \n",
       "8         0         0         0         0         0         0  \n",
       "9       169        32        10       216         0         0  \n",
       "\n",
       "[10 rows x 30 columns]"
      ]
     },
     "execution_count": 48,
     "metadata": {},
     "output_type": "execute_result"
    }
   ],
   "source": [
    "train_images.head(10).iloc[:,490:520]"
   ]
  },
  {
   "cell_type": "markdown",
   "metadata": {},
   "source": [
    "### Visualising Dataset Distribution\n",
    "\n",
    "* It is important to know the distribution of data according to the labels they have.\n",
    "* This data set is __homogeneously__ distributed as you see below."
   ]
  },
  {
   "cell_type": "code",
   "execution_count": 41,
   "metadata": {},
   "outputs": [
    {
     "data": {
      "image/png": "[encoded data removed]",
      "text/plain": [
       "<Figure size 1008x360 with 2 Axes>"
      ]
     },
     "metadata": {
      "needs_background": "light"
     },
     "output_type": "display_data"
    }
   ],
   "source": [
    "train_dist = train_labels.value_counts(normalize = True)\n",
    "test_dist = test_labels.value_counts(normalize = True)\n",
    "submission_dist = train_labels.value_counts(normalize = True)\n",
    "\n",
    "dists_to_plot = [('Trainset', train_dist), ('Testset', submission_dist)]\n",
    "\n",
    "fig, axes = plt.subplots(nrows=1, ncols=2, figsize=(14, 5))\n",
    "colors = []\n",
    "\n",
    "for i, (name, df) in enumerate(dists_to_plot):\n",
    "    sns.barplot(x=df.index, y=df, ax=axes[i])\n",
    "    axes[i].set_title(name + ' distribution');"
   ]
  },
  {
   "cell_type": "markdown",
   "metadata": {},
   "source": [
    "### Cross Validation - Training - Validation - Test Split \n",
    "\n",
    "**Splitting training set to train and validation set** - In order to measure the generalization ability of the model, we train the data with the training set and make the model arrangement according to the error value in the validation set. In addition, we determine the final performance of the model with the test set.\n",
    "\n",
    "This Kernel is prepared on a Kaggle competition dataset. They give us a training set for training the model and a test set without labels for prediction. As we don't have the labels we don't know the final performance of the test set until we submit our predictions.\n",
    "\n",
    "**Why we need testing set? Isn't validation set enough?** - -The reason for using the test set on the final evaluation is the model would have a bias on the validation set because we developed the model according to the validation set performance. So a kind of overfitting on the validation set is formed. The testing set will be performed to further evaluate the model after validation set. As mentioned above, this is to check whether our modelling has been overfitted/biased toward the validation set. \n",
    "\n",
    "To evaluate the model better, we need to split our training set into training and validation set. We will use a testing set from `Dig-MNIST.csv` instead which has been prepared for the purpose of evaluation. \n",
    "\n",
    "Commonly, the prefered split for training set:\n",
    "  * Training set -  $80$% \n",
    "  * Validation set -  $20$%"
   ]
  },
  {
   "cell_type": "markdown",
   "metadata": {},
   "source": [
    "Now how do we split our training and validation set? For simple splitting scheme, we can borrow the functionality from `sklearn.model_selection.train_test_split` as follows. How about testing set? Well we already have it in `test_images` dataframe. Hence we only need to split on training set to train and validation set."
   ]
  },
  {
   "cell_type": "code",
   "execution_count": 10,
   "metadata": {},
   "outputs": [],
   "source": [
    "# Train Test Split for evaluation\n",
    "train_images, val_images, train_labels, val_labels = train_test_split(train_data, \n",
    "                                                                     train_targets, \n",
    "                                                                     test_size=0.2)"
   ]
  },
  {
   "cell_type": "markdown",
   "metadata": {},
   "source": [
    "After splitting, our dataset is organised as follows:\n",
    "\n",
    "| Split      | Number of data | Shape of Image | Number of labels\n",
    "| ---:       | ---:           | ---:           |  ---:\n",
    "|Training    |  50000         |  1 x 28 x 28   |  51000\n",
    "|Validation  |  10000         |  1 x 28 x 28   |  10000\n",
    "|Training    |  10240         |  1 x 28 x 28   |  10240\n",
    "|Training    |  5000          |  1 x 28 x 28   |  5000"
   ]
  },
  {
   "cell_type": "code",
   "execution_count": 52,
   "metadata": {},
   "outputs": [
    {
     "name": "stdout",
     "output_type": "stream",
     "text": [
      "Shape of training set   : (51000, 784)\n",
      "Shape of validation set : (9000, 784)\n",
      "Shape of testing set    : (10240, 784)\n",
      "Shape of submission set : (5000, 784)\n"
     ]
    }
   ],
   "source": [
    "print('Shape of training set   :', train_images.shape)\n",
    "print('Shape of validation set :', val_images.shape)\n",
    "print('Shape of testing set    :', test_images.shape)\n",
    "\n",
    "print('Shape of submission set :', submission_set.shape)"
   ]
  },
  {
   "cell_type": "markdown",
   "metadata": {},
   "source": [
    "## Pytorch Dataset Object & Data Loader\n",
    "\n",
    "A lot of effort in solving any machine learning problem goes in to preparing the data. PyTorch provides many tools to make data loading easy and hopefully, to make your code more readable. Let's see how we can simply to load and preprocess/augment data from our Kannada dataset."
   ]
  },
  {
   "cell_type": "markdown",
   "metadata": {},
   "source": [
    "### Define Pytorch Dataset Object"
   ]
  },
  {
   "cell_type": "markdown",
   "metadata": {},
   "source": [
    "Now, our raw dataset originally came from a `.csv` format. This table is represented by `pd.DataFrame` object which support Microsoft-Excel-like functionality on table manipulation.\n",
    "\n",
    "However, our Kannada dataset is meant to be an image, not table dataset. If you look carefully, our data is a flattened image pixels, stored in a row of a table. The problem here is that representing image with `pd.DataFrame` table is unheard off as we will find difficulties in performing image operations, e.g. filtering, rotation, and convolution.\n",
    "\n",
    "Let's see how we can mitigate this problem, and automate them in Pytorch `Dataset object`."
   ]
  },
  {
   "cell_type": "code",
   "execution_count": 19,
   "metadata": {},
   "outputs": [],
   "source": [
    "class KannadaDataSet(Dataset):\n",
    "    \"\"\" Representation of our Kannada Dataset as a whole.\n",
    "    Scope of this object is to dictate how to access a single data/image and\n",
    "    it's label from our datapool, then convert it to desired matrix format which represent\n",
    "    an image.\n",
    "    \"\"\"\n",
    "    def __init__(self, X, labels, transforms=None):\n",
    "        \"\"\"\n",
    "        Arguments:\n",
    "        --------------------\n",
    "            .. X (pd.DataFrame): table representation of flattened Kannada image pixels\n",
    "            .. labels (array-like): ground truth label of the digit. Ranging from digit 0 to digit 9\n",
    "        \"\"\"\n",
    "        self.X = X\n",
    "        self.labels = labels\n",
    "        self.transforms = transforms\n",
    "         \n",
    "    def __len__(self):\n",
    "        return (len(self.X))\n",
    "    \n",
    "    def __getitem__(self, i):\n",
    "        data = self.X.iloc[i,:]\n",
    "        data = np.array(data).astype(np.uint8).reshape(IMGSIZE,IMGSIZE,1)\n",
    "        \n",
    "        if self.transforms:\n",
    "            data = self.transforms(data)\n",
    "            \n",
    "        if self.labels is not None:\n",
    "            # for train set, val set, and test set\n",
    "            return (data, self.labels[i])\n",
    "        else:\n",
    "            # for kaggle submission\n",
    "            # since submission set will not have labels\n",
    "            return data"
   ]
  },
  {
   "cell_type": "markdown",
   "metadata": {},
   "source": [
    "### Define Image Transformation Pipeline"
   ]
  },
  {
   "cell_type": "markdown",
   "metadata": {},
   "source": [
    "As part of data science workflow, we will need to write some prepocessing code. One issue with our dataset right now is that it needs to be converted from `np.ndarray` matrix form to `torch.Tensor`. \n",
    "\n",
    "In addition to that, we would like to introduce several data augmentation, such as rotation, and translation to our image to increase the variety of our dataset. This is done so that our model sees more variety of data and more robust to the effect of image translation and rotation. \n",
    "\n",
    "Let's define three transform:\n",
    "- **`ToPILImage`**: PIL Image representation allows image based operation. It's good to convert our matrix to PIL Image first\n",
    "- **`RandomCrop`**: to crop from image randomly. This is data augmentation, which introduce translation\n",
    "- **`RandomAffine`**: to rotate image randomly from -5 to 5 degrees. This is data augmentation\n",
    "- **`ToTensor`**: to convert the numpy images to torch images (we need to swap axes)."
   ]
  },
  {
   "cell_type": "code",
   "execution_count": 20,
   "metadata": {},
   "outputs": [],
   "source": [
    "IMGSIZE = 28\n",
    "\n",
    "# Transformations for the train\n",
    "train_trans = transforms.Compose(([\n",
    "    transforms.ToPILImage(),\n",
    "    transforms.RandomCrop(IMGSIZE),\n",
    "    transforms.RandomAffine(degrees=5, translate=(0.1, 0.1)),\n",
    "    transforms.ToTensor(), # automatically divide pixels by 255\n",
    "]))\n",
    "\n",
    "# Transformations for the validation & test sets\n",
    "val_trans = transforms.Compose(([\n",
    "    transforms.ToPILImage(),\n",
    "    transforms.ToTensor(), # automatically divide pixels by 255\n",
    "]))"
   ]
  },
  {
   "cell_type": "markdown",
   "metadata": {},
   "source": [
    "### Define Pytorch Data Loader\n",
    "\n",
    "Loading data may take a few moments, and you should see your progress as the data is loading. You may also choose to increase the `batch_size` if you want to load more data at a time."
   ]
  },
  {
   "cell_type": "code",
   "execution_count": 21,
   "metadata": {},
   "outputs": [],
   "source": [
    "batch_size = 64\n",
    "\n",
    "# Initialise dataset object for each set\n",
    "train_data = KannadaDataSet(train_images, train_labels, train_trans)\n",
    "val_data   = KannadaDataSet(val_images, val_labels, val_trans)\n",
    "test_data  = KannadaDataSet(test_images, test_labels, val_trans)\n",
    "submission_data = KannadaDataSet(submission_set, None, val_trans)\n",
    "\n",
    "# Define Dataloader for each set\n",
    "train_loader = DataLoader(train_data,\n",
    "                          batch_size=batch_size,\n",
    "                          shuffle=True)\n",
    "\n",
    "val_loader = DataLoader(val_data, \n",
    "                        batch_size=batch_size, # batch_size=1000\n",
    "                        shuffle=False)\n",
    "\n",
    "test_loader = DataLoader(test_data,\n",
    "                         batch_size=batch_size, # batch_size=1000\n",
    "                         shuffle=False)\n",
    "\n",
    "# for kaggle submission\n",
    "submission_loader = DataLoader(submission_data,\n",
    "                               batch_size=batch_size,\n",
    "                               shuffle=False)"
   ]
  },
  {
   "cell_type": "markdown",
   "metadata": {},
   "source": [
    "### Visualise Image in Training Batch\n",
    "\n",
    "The first step in a classification task is to take a look at the data, make sure it is loaded in correctly, then make any initial observations about patterns in that data."
   ]
  },
  {
   "cell_type": "code",
   "execution_count": 58,
   "metadata": {},
   "outputs": [
    {
     "data": {
      "image/png": "[encoded data removed]",
      "text/plain": [
       "<Figure size 1800x432 with 16 Axes>"
      ]
     },
     "metadata": {},
     "output_type": "display_data"
    }
   ],
   "source": [
    "# obtain one batch of training images\n",
    "dataiter = iter(train_loader)\n",
    "images, labels = dataiter.next()\n",
    "images = images.numpy()\n",
    "\n",
    "# plot the images in the batch, along with the corresponding labels\n",
    "fig = plt.figure(figsize=(25, 6))\n",
    "for idx in np.arange(16):\n",
    "    ax = fig.add_subplot(2, 16/2, idx+1, xticks=[], yticks=[])\n",
    "    ax.imshow(np.squeeze(images[idx]), cmap='gray')\n",
    "    ax.set_title('digit ' + str(labels[idx].item()), fontsize=16)  # .item() gets single value in scalar tensor"
   ]
  },
  {
   "cell_type": "markdown",
   "metadata": {},
   "source": [
    "### Visualise Image in Detail\n",
    "\n",
    "Now let's see an image from MNIST dataset in detail. Notice how our image pixels only ranges from $(0, 1)$. This means that no further normalisation is required in the preprocessing step."
   ]
  },
  {
   "cell_type": "code",
   "execution_count": 64,
   "metadata": {},
   "outputs": [
    {
     "data": {
      "image/png": "[encoded data removed]",
      "text/plain": [
       "<Figure size 864x864 with 1 Axes>"
      ]
     },
     "metadata": {
      "needs_background": "light"
     },
     "output_type": "display_data"
    }
   ],
   "source": [
    "img = np.squeeze(images[1])\n",
    "\n",
    "fig = plt.figure(figsize = (12,12)) \n",
    "ax = fig.add_subplot(111)\n",
    "ax.imshow(img, cmap='gray')\n",
    "width, height = img.shape\n",
    "thresh = img.max()/2.5\n",
    "\n",
    "for x in range(width):\n",
    "    for y in range(height):\n",
    "        val = round(img[x][y],2) if img[x][y] !=0 else 0\n",
    "        ax.annotate(str(val), xy=(y,x),\n",
    "                    horizontalalignment='center',\n",
    "                    verticalalignment='center',\n",
    "                    color='white' if img[x][y]<thresh else 'black')\n",
    "\n",
    "ax.set_title('Kannada Digit in detail: label %d' % labels[1].item());"
   ]
  },
  {
   "cell_type": "markdown",
   "metadata": {},
   "source": [
    "### Saving Dataset Split\n",
    "\n",
    "Now that we have done several splitting and preprocessing step, let's save our processed data that we have at this point to a seperate folder called `data/Kannada/processed`. This is a good practice so that the next time you would like to continue your work, you don't have to run the code from the beggining."
   ]
  },
  {
   "cell_type": "code",
   "execution_count": 24,
   "metadata": {},
   "outputs": [],
   "source": [
    "# Save data to local folder first\n",
    "train_images.to_csv(os.path.join(data_dir, 'processed/train.csv'), index=False, header=False)\n",
    "train_labels.to_csv(os.path.join(data_dir, 'processed/train_labels.csv'), index=False, header=False)\n",
    "\n",
    "val_images.to_csv(os.path.join(data_dir, 'processed/validation.csv'), index=False, header=False)\n",
    "val_labels.to_csv(os.path.join(data_dir, 'processed/validation_labels.csv'), index=False, header=False)\n",
    "\n",
    "test_images.to_csv(os.path.join(data_dir, 'processed/test.csv'), index=False, header=False)\n",
    "test_labels.to_csv(os.path.join(data_dir, 'processed/test_labels.csv'), index=False, header=False)\n",
    "\n",
    "submission_set.to_csv(os.path.join(data_dir, 'processed/submission_test.csv'), index=False, header=False)"
   ]
  },
  {
   "cell_type": "markdown",
   "metadata": {},
   "source": [
    "---\n",
    "\n",
    "# Building and Training CNN Model\n",
    "_(Duration: 25 min)_\n",
    "\n",
    "On building stage you specify the architecture of the model mainly.\n",
    "\n",
    "You can decide the Filter size and Padding type you will use on Convolution operations and add Pooling, Batch Normalization, Dropout, activation function layers with build section.\n"
   ]
  },
  {
   "cell_type": "code",
   "execution_count": 24,
   "metadata": {},
   "outputs": [],
   "source": [
    "class KannadaCNN(nn.Module):\n",
    "    \"\"\" Simple Convolutional Neural Network to classify \n",
    "    Kannada handwritten digit\n",
    "    \"\"\"\n",
    "    def __init__(self, drop_p=0.4, num_classes=10):\n",
    "        \"\"\" Initialise and build network layers \n",
    "        Arguments\n",
    "        --------------------\n",
    "            .. drop_p (float, range[0, 1.]): constant probability in our dropout layer\n",
    "            .. num_classes (int): number of target classes in our data\n",
    "        \"\"\"\n",
    "        super().__init__()\n",
    "        self.num_classes = num_classes\n",
    "        \n",
    "        # First hidden layer\n",
    "        self.conv2d_0 = nn.Conv2d(1, 64, kernel_size=5, padding=2)\n",
    "        self.convbn_0 = nn.BatchNorm2d(num_features=64)\n",
    "\n",
    "        self.conv2d_1 = nn.Conv2d(64, 64, kernel_size=5, padding=2)\n",
    "        self.convbn_1 = nn.BatchNorm2d(num_features=64)\n",
    "\n",
    "        self.pool_1 = nn.MaxPool2d(kernel_size=2, stride=2, padding=0)\n",
    "        self.drop_1 = nn.Dropout2d(p=drop_p)\n",
    "\n",
    "        # Second hidden layer\n",
    "        self.conv2d_2 = nn.Conv2d(64, 128, kernel_size=3, padding=1)\n",
    "        self.convbn_2 = nn.BatchNorm2d(num_features=128)\n",
    "\n",
    "        self.conv2d_3 = nn.Conv2d(128, 128, kernel_size=3, padding=1)\n",
    "        self.convbn_3 = nn.BatchNorm2d(num_features=128)\n",
    "\n",
    "        self.pool_2 = nn.MaxPool2d(kernel_size=2, stride=2, padding=0)\n",
    "        self.drop_2 = nn.Dropout2d(p=drop_p)\n",
    "\n",
    "        # Third hidden layer\n",
    "        self.conv2d_4 = nn.Conv2d(128, 256, kernel_size=3, padding=1)\n",
    "        self.convbn_4 = nn.BatchNorm2d(num_features=256)\n",
    "        \n",
    "        self.conv2d_5 = nn.Conv2d(256, 256, kernel_size=3, padding=1)\n",
    "        self.convbn_5 = nn.BatchNorm2d(num_features=256)\n",
    "\n",
    "        self.pool_3 = nn.MaxPool2d(kernel_size=2, stride=2, padding=0)\n",
    "        self.drop_3 = nn.Dropout(p=drop_p)\n",
    "\n",
    "        # Dense fully connected layer\n",
    "        self.dense_linear_1 = nn.Linear(256*3*3, 512)\n",
    "        self.drop_4 = nn.Dropout(p=drop_p)\n",
    "\n",
    "        self.dense_linear_2 = nn.Linear(512, 256)\n",
    "        self.drop_5 = nn.Dropout(p=drop_p)\n",
    "\n",
    "        self.dense_linear_3 = nn.Linear(256, 128)\n",
    "        self.out_layer = nn.Linear(128, num_classes)\n",
    "\n",
    "    def forward(self, x):\n",
    "        \"\"\" Define the feed-forward flow of our neural network\n",
    "        \"\"\"\n",
    "\n",
    "        x = self.conv2d_0(x)\n",
    "        x = self.convbn_0(x)\n",
    "        x = F.leaky_relu(x)\n",
    "        \n",
    "        x = self.conv2d_1(x)\n",
    "        x = self.convbn_1(x)\n",
    "        x = F.leaky_relu(x)\n",
    "\n",
    "        x = self.pool_1(x)\n",
    "        x = self.drop_1(x)\n",
    "\n",
    "        x = self.conv2d_2(x)\n",
    "        x = self.convbn_2(x)\n",
    "        x = F.leaky_relu(x)\n",
    "\n",
    "        x = self.conv2d_3(x)\n",
    "        x = self.convbn_3(x)\n",
    "        x = F.leaky_relu(x)\n",
    "\n",
    "        x = self.pool_2(x)\n",
    "        x = self.drop_2(x)\n",
    "\n",
    "        x = self.conv2d_4(x)\n",
    "        x = self.convbn_4(x)\n",
    "        x = F.leaky_relu(x)\n",
    "        \n",
    "        x = self.conv2d_5(x)\n",
    "        x = self.convbn_5(x)\n",
    "        x = F.leaky_relu(x)\n",
    "        \n",
    "        x = self.pool_3(x)\n",
    "        x = self.drop_3(x)\n",
    "\n",
    "        x = x.view(-1, 256*3*3)\n",
    "        x = self.dense_linear_1(x)\n",
    "        x = F.relu(x)\n",
    "        x = self.drop_4(x)\n",
    "        \n",
    "        x = self.dense_linear_2(x)\n",
    "        x = F.relu(x)\n",
    "        x = self.drop_5(x)\n",
    "        \n",
    "        x = self.dense_linear_3(x)\n",
    "        x = F.relu(x)\n",
    "\n",
    "        out = self.out_layer(x)\n",
    "        return out"
   ]
  },
  {
   "cell_type": "markdown",
   "metadata": {},
   "source": [
    "### Construct Neural Network from Pytorch Model Class\n",
    "\n",
    "Now that we have defined our CNN model class using `nn.Module` and added the all layers, let's make it come to life by constructing the object so that we can use it to make prediction."
   ]
  },
  {
   "cell_type": "code",
   "execution_count": 25,
   "metadata": {},
   "outputs": [
    {
     "name": "stdout",
     "output_type": "stream",
     "text": [
      "----------------------------------------------------------------\n",
      "        Layer (type)               Output Shape         Param #\n",
      "================================================================\n",
      "            Conv2d-1           [-1, 64, 28, 28]           1,664\n",
      "       BatchNorm2d-2           [-1, 64, 28, 28]             128\n",
      "            Conv2d-3           [-1, 64, 28, 28]         102,464\n",
      "       BatchNorm2d-4           [-1, 64, 28, 28]             128\n",
      "         MaxPool2d-5           [-1, 64, 14, 14]               0\n",
      "         Dropout2d-6           [-1, 64, 14, 14]               0\n",
      "            Conv2d-7          [-1, 128, 14, 14]          73,856\n",
      "       BatchNorm2d-8          [-1, 128, 14, 14]             256\n",
      "            Conv2d-9          [-1, 128, 14, 14]         147,584\n",
      "      BatchNorm2d-10          [-1, 128, 14, 14]             256\n",
      "        MaxPool2d-11            [-1, 128, 7, 7]               0\n",
      "        Dropout2d-12            [-1, 128, 7, 7]               0\n",
      "           Conv2d-13            [-1, 256, 7, 7]         295,168\n",
      "      BatchNorm2d-14            [-1, 256, 7, 7]             512\n",
      "           Conv2d-15            [-1, 256, 7, 7]         590,080\n",
      "      BatchNorm2d-16            [-1, 256, 7, 7]             512\n",
      "        MaxPool2d-17            [-1, 256, 3, 3]               0\n",
      "          Dropout-18            [-1, 256, 3, 3]               0\n",
      "           Linear-19                  [-1, 512]       1,180,160\n",
      "          Dropout-20                  [-1, 512]               0\n",
      "           Linear-21                  [-1, 256]         131,328\n",
      "          Dropout-22                  [-1, 256]               0\n",
      "           Linear-23                  [-1, 128]          32,896\n",
      "           Linear-24                   [-1, 10]           1,290\n",
      "================================================================\n",
      "Total params: 2,558,282\n",
      "Trainable params: 2,558,282\n",
      "Non-trainable params: 0\n",
      "----------------------------------------------------------------\n",
      "Input size (MB): 0.00\n",
      "Forward/backward pass size (MB): 3.01\n",
      "Params size (MB): 9.76\n",
      "Estimated Total Size (MB): 12.78\n",
      "----------------------------------------------------------------\n"
     ]
    }
   ],
   "source": [
    "# Constructing our CNN module\n",
    "model = KannadaCNN().to(device)\n",
    "# initialise network\n",
    "net = KannadaCNN().to(device)\n",
    "\n",
    "# optimiser\n",
    "optimiser = optim.Adam(net.parameters(), lr=5e-4)\n",
    "criterion = nn.CrossEntropyLoss()\n",
    "\n",
    "# display model summary\n",
    "summary(model, input_size=(1,IMGSIZE,IMGSIZE))  # IMGSIZE = 28"
   ]
  },
  {
   "cell_type": "markdown",
   "metadata": {},
   "source": [
    "---\n",
    "\n",
    "## Training Session\n",
    "\n",
    "Now let's fit our convolutional neural network by using our training set. For every epoch, we will evaluate the performance of our network on validation set and monitor the result. Finally, we perform one more evaluation on our testing set to make sure our setup is not biased towards our validation set."
   ]
  },
  {
   "cell_type": "markdown",
   "metadata": {},
   "source": [
    "#### Evaluation Metric\n",
    "We define a function to help calculate the accuracy metric.\n",
    "\n",
    "$$ \\text{Accuracy} = \\frac{\\text{Number of Correct Prediction}}{\\text{Number of all images in Dataset}}\n",
    "$$"
   ]
  },
  {
   "cell_type": "code",
   "execution_count": 26,
   "metadata": {},
   "outputs": [],
   "source": [
    "def accuracy(output, target, topk=(1,)):\n",
    "    \"\"\"Computes the precision@k for the specified values of k\"\"\"\n",
    "    maxk = max(topk)\n",
    "    batch_size = target.size(0)\n",
    "\n",
    "    _, pred = output.topk(maxk, 1, True, True)\n",
    "    pred = pred.t()\n",
    "    correct = pred.eq(target.view(1, -1).expand_as(pred))\n",
    "\n",
    "    res = []\n",
    "    for k in topk:\n",
    "        correct_k = correct[:k].view(-1).float().sum(0)\n",
    "        res.append(correct_k.mul_(100.0 / batch_size))\n",
    "    return res"
   ]
  },
  {
   "cell_type": "markdown",
   "metadata": {},
   "source": [
    "#### Modelling Fitting\n",
    "\n",
    "Let's define how our training looks like when we fit and run our network to learn on data.\n",
    "\n",
    "1. First we load our data per mini-batch\n",
    "2. Perform lightweight data preprocessing/transformation (under the hood of `torch.DataLoader`)\n",
    "3. Feed forward data to our `CNN`. Let it classify which digit does the image belongs to. Our network make a guess by outputing a probability for each class.\n",
    "4. Calculate the error/loss based on groun truth and our `CNN` prediction.\n",
    "5. Perform gradient descent, optimise weights and parameters update in our `CNN` so that next time, it can learn and make better guess."
   ]
  },
  {
   "cell_type": "code",
   "execution_count": 27,
   "metadata": {},
   "outputs": [],
   "source": [
    "def train_helper(train_loader, model, optimizer, criterion,\n",
    "                  epoch, device='cpu', log_interval=25):\n",
    "    # set to training mode\n",
    "    model.train()\n",
    "\n",
    "    # training result to record\n",
    "    train_loss = 0.0\n",
    "    train_top1 = 0.0\n",
    "    train_top5 = 0.0\n",
    "\n",
    "    for batch_idx, (data, target) in enumerate(train_loader, start=1):\n",
    "        # convert tensor for current runtime device\n",
    "        data, target = data.to(device), target.to(device)\n",
    "\n",
    "        # reset optimiser gradient to zero\n",
    "        optimizer.zero_grad()\n",
    "\n",
    "        # feed forward\n",
    "        out = model(data)\n",
    "        \n",
    "        # calculate loss and optimise network params\n",
    "        loss = criterion(out, target)\n",
    "        loss.backward()\n",
    "        \n",
    "        # optimize weight to account for loss/gradient\n",
    "        optimizer.step()\n",
    "\n",
    "        # calculate training accuracy for top1 and top5\n",
    "        top1, top5 = accuracy(out, target, topk=(1,5))\n",
    "\n",
    "        # update result records\n",
    "        train_top1 += top1.item()\n",
    "        train_top5 += top5.item()\n",
    "        train_loss += loss.item()\n",
    "\n",
    "        # logging loss output to stdout\n",
    "        if batch_idx % log_interval == 0:\n",
    "            print('Train Epoch: {:03d} [{:05d}/{:05d} ({:2.0f}%)] | '\n",
    "                  'Top1 Acc: {:4.1f} \\t| Top5 Acc: {:4.1f} \\t| Loss: {:.4f}'\n",
    "                  .format(epoch, batch_idx * len(data), len(train_loader.sampler),\n",
    "                      100 * batch_idx / len(train_loader),\n",
    "                      top1, top5, loss.item()))\n",
    "\n",
    "    # display training result\n",
    "    train_loss /= len(train_loader.dataset)\n",
    "    train_top1 /= len(train_loader) # average loss over mini-batches\n",
    "    train_top5 /= len(train_loader) # average loss over mini-batches\n",
    "\n",
    "    print('Training Summary Epoch: {:03d} | '\n",
    "          'Average Top1 Acc: {:.2f}  | Average Top5 Acc: {:.2f} | Loss: {:.4f}'\n",
    "          .format(epoch, train_top1, train_top5, train_loss))\n",
    "    \n",
    "    return train_loss, train_top1, train_top5 "
   ]
  },
  {
   "cell_type": "markdown",
   "metadata": {},
   "source": [
    "#### Modelling Evaluation\n",
    "\n",
    "For both validation and testing, the flow will be the same except that we use different images from different set/split.\n",
    "\n",
    "1. First we load our data per mini-batch\n",
    "2. Perform lightweight data preprocessing/transformation (under the hood of `torch.DataLoader`)\n",
    "3. Feed forward data to our `CNN`. Let it classify which digit does the image belongs to. Our network make a guess by outputing a probability for each class.\n",
    "4. Calculate the error/loss, top1 accuracy, and top5 accuracy as our evaluation metric"
   ]
  },
  {
   "cell_type": "code",
   "execution_count": 28,
   "metadata": {},
   "outputs": [],
   "source": [
    "def test_helper(test_loader, model, criterion, \n",
    "                 epoch, device='cpu'):\n",
    "    # set to validation mode\n",
    "    model.eval()\n",
    "    \n",
    "    test_loss = 0.0  # record testing loss\n",
    "    test_top1 = 0.0\n",
    "    test_top5 = 0.0\n",
    "    for batch_idx, (data, target) in enumerate(test_loader, start=1):\n",
    "\n",
    "        # convert tensor for current runtime device\n",
    "        data, target = data.to(device), target.to(device)\n",
    "\n",
    "        # generate image x\n",
    "        out = model(data)\n",
    "\n",
    "        # calculate loss and optimise network params\n",
    "        loss = criterion(out, target)\n",
    "        \n",
    "        # calculate testing accuracy for top1 and top5\n",
    "        top1, top5 = accuracy(out, target, topk=(1,5))\n",
    "\n",
    "        # update test loss\n",
    "        test_top1 += top1.item()\n",
    "        test_top5 += top5.item()\n",
    "        test_loss += loss.item()\n",
    "\n",
    "    # display validation/testing result\n",
    "    test_loss /= len(test_loader.dataset)  # average loss over all images\n",
    "    test_top1 /= len(test_loader)\n",
    "    test_top5 /= len(test_loader)\n",
    "\n",
    "    print('Test Summary Epoch: {:03d} | '\n",
    "          'Average Top1 Acc: {:.2f}  | Average Top5 Acc: {:.2f} | Loss: {:.4f}'\n",
    "          .format(epoch, test_top1, test_top5, test_loss))\n",
    "    \n",
    "    return test_loss, test_top1, test_top5"
   ]
  },
  {
   "cell_type": "markdown",
   "metadata": {},
   "source": [
    "#### Running Complete Train Session\n",
    "\n",
    "Finally, combining the training and model evaluation in our flow, we will run the model for several epochs. Below are several training **hyperparameters** you need to be aware of\n",
    "\n",
    "- **`epochs`** : Number of times our `CNN` will see the training data\n",
    "- **`batch size`**: Often called mini-batchsize as well."
   ]
  },
  {
   "cell_type": "code",
   "execution_count": 29,
   "metadata": {},
   "outputs": [
    {
     "name": "stdout",
     "output_type": "stream",
     "text": [
      "\n",
      "----------------------------------------------------------------------------------------------------\n",
      "Train Epoch: 001 [06400/51000 (13%)] | Top1 g Acc: 78.1 \t| Top5 Acc: 100.0 \t| Loss: 0.5618\n",
      "Train Epoch: 001 [12800/51000 (25%)] | Top1 g Acc: 95.3 \t| Top5 Acc: 100.0 \t| Loss: 0.1932\n",
      "Train Epoch: 001 [19200/51000 (38%)] | Top1 g Acc: 100.0 \t| Top5 Acc: 100.0 \t| Loss: 0.0600\n",
      "Train Epoch: 001 [25600/51000 (50%)] | Top1 g Acc: 96.9 \t| Top5 Acc: 100.0 \t| Loss: 0.1325\n",
      "Train Epoch: 001 [32000/51000 (63%)] | Top1 g Acc: 96.9 \t| Top5 Acc: 100.0 \t| Loss: 0.0719\n",
      "Train Epoch: 001 [38400/51000 (75%)] | Top1 g Acc: 98.4 \t| Top5 Acc: 100.0 \t| Loss: 0.0625\n",
      "Train Epoch: 001 [44800/51000 (88%)] | Top1 g Acc: 98.4 \t| Top5 Acc: 100.0 \t| Loss: 0.0861\n",
      "Training Summary Epoch: 001 | Average Top1 Acc: 89.05  | Average Top5 Acc: 98.13 | Loss: 0.0049\n",
      "Val/Test Summary Epoch: 001 | Average Top1 Acc: 98.50  | Average Top5 Acc: 99.94 | Loss: 0.0009\n",
      "\n",
      "----------------------------------------------------------------------------------------------------\n",
      "Train Epoch: 002 [06400/51000 (13%)] | Top1 g Acc: 98.4 \t| Top5 Acc: 100.0 \t| Loss: 0.1394\n",
      "Train Epoch: 002 [12800/51000 (25%)] | Top1 g Acc: 98.4 \t| Top5 Acc: 100.0 \t| Loss: 0.0437\n",
      "Train Epoch: 002 [19200/51000 (38%)] | Top1 g Acc: 96.9 \t| Top5 Acc: 100.0 \t| Loss: 0.0914\n",
      "Train Epoch: 002 [25600/51000 (50%)] | Top1 g Acc: 95.3 \t| Top5 Acc: 100.0 \t| Loss: 0.1827\n",
      "Train Epoch: 002 [32000/51000 (63%)] | Top1 g Acc: 96.9 \t| Top5 Acc: 100.0 \t| Loss: 0.0560\n",
      "Train Epoch: 002 [38400/51000 (75%)] | Top1 g Acc: 100.0 \t| Top5 Acc: 100.0 \t| Loss: 0.0138\n",
      "Train Epoch: 002 [44800/51000 (88%)] | Top1 g Acc: 100.0 \t| Top5 Acc: 100.0 \t| Loss: 0.0165\n",
      "Training Summary Epoch: 002 | Average Top1 Acc: 97.89  | Average Top5 Acc: 99.96 | Loss: 0.0011\n",
      "Val/Test Summary Epoch: 002 | Average Top1 Acc: 99.27  | Average Top5 Acc: 99.96 | Loss: 0.0005\n",
      "\n",
      "Final Test Set Result:\n",
      "********************************************************************************\n",
      "Val/Test Summary Epoch: 002 | Average Top1 Acc: 80.91  | Average Top5 Acc: 97.83 | Loss: 0.0130\n"
     ]
    }
   ],
   "source": [
    "# ----------------------------\n",
    "# COMPLETE TRAINING SESSION\n",
    "# ----------------------------\n",
    "\n",
    "train_losses = []\n",
    "val_losses = []\n",
    "\n",
    "train_accuracies = []\n",
    "val_accuracies = []\n",
    "\n",
    "for epoch in range(1, 2 + 1):\n",
    "    print('\\n' + '-' * 100)\n",
    "    # run session on training set\n",
    "    train_loss, train_acc, _  = train_helper(train_loader, net, optimiser, criterion,\n",
    "                                              epoch=epoch, device=device, log_interval=100)\n",
    "    train_losses.append(train_loss)\n",
    "    train_accuracies.append(train_acc)\n",
    "\n",
    "    # run session on validation set\n",
    "    val_loss, val_acc, _ = test_helper(val_loader, net, criterion, epoch, device=device)\n",
    "    val_losses.append(val_loss)\n",
    "    val_accuracies.append(val_acc)\n",
    "\n",
    "# finally, run session testing set\n",
    "print('\\n' + 'Final Test Set Result:\\n'+ '*' * 80)\n",
    "test_helper(test_loader, net, criterion, epoch, device=device);"
   ]
  },
  {
   "cell_type": "markdown",
   "metadata": {},
   "source": [
    "### Visualise Training Session results"
   ]
  },
  {
   "cell_type": "code",
   "execution_count": 30,
   "metadata": {},
   "outputs": [
    {
     "data": {
      "image/png": "[encoded data removed]",
      "text/plain": [
       "<Figure size 1008x360 with 2 Axes>"
      ]
     },
     "metadata": {
      "needs_background": "light"
     },
     "output_type": "display_data"
    }
   ],
   "source": [
    "fig, axes = plt.subplots(nrows=1, ncols=2, figsize=(14, 5))\n",
    "\n",
    "# Plot Error training vs validation\n",
    "axes[0].plot(train_losses);\n",
    "axes[0].plot(val_losses);\n",
    "\n",
    "axes[0].set_ylabel('Error');\n",
    "axes[0].set_xlabel('Epochs');\n",
    "\n",
    "axes[0].set_ylim(0, 0.005);\n",
    "axes[0].legend(labels=['train error', 'validation error']);\n",
    "\n",
    "# Plot Accuracy training vs validation\n",
    "axes[1].plot(train_accuracies);\n",
    "axes[1].plot(val_accuracies);\n",
    "\n",
    "axes[1].set_ylabel('Accuracy (%)');\n",
    "axes[1].set_xlabel('Epochs');\n",
    "\n",
    "axes[1].set_ylim(80, 100);\n",
    "axes[1].legend(labels=['train acc', 'validation acc']);"
   ]
  },
  {
   "cell_type": "markdown",
   "metadata": {},
   "source": [
    "### Writing Submission to Kaggle Competition"
   ]
  },
  {
   "cell_type": "code",
   "execution_count": 31,
   "metadata": {},
   "outputs": [],
   "source": [
    "# Time to get the network's predictions on the test set\n",
    "# Put the test set in a DataLoader\n",
    "\n",
    "net.eval() # Safety first\n",
    "predictions = torch.LongTensor().to(device) # Tensor for all predictions\n",
    "\n",
    "# Go through the test set, saving the predictions in... 'predictions'\n",
    "for images in submission_loader:\n",
    "    images = images.to(device)\n",
    "    preds = net(images)\n",
    "    predictions = torch.cat((predictions, preds.argmax(dim=1)), dim=0)"
   ]
  },
  {
   "cell_type": "code",
   "execution_count": 32,
   "metadata": {},
   "outputs": [],
   "source": [
    "submission_pred_df = pd.DataFrame(predictions.cpu().detach().numpy())"
   ]
  },
  {
   "cell_type": "code",
   "execution_count": 33,
   "metadata": {},
   "outputs": [],
   "source": [
    "submission_pred_df.to_csv(os.path.join(data_dir, 'kannada_sub_baseline.csv'), \n",
    "                          index=True, index_label='id', header=['label'])"
   ]
  },
  {
   "cell_type": "code",
   "execution_count": null,
   "metadata": {},
   "outputs": [],
   "source": []
  }
 ],
 "metadata": {
  "kernelspec": {
   "display_name": "Python 3",
   "language": "python",
   "name": "python3"
  },
  "language_info": {
   "codemirror_mode": {
    "name": "ipython",
    "version": 3
   },
   "file_extension": ".py",
   "mimetype": "text/x-python",
   "name": "python",
   "nbconvert_exporter": "python",
   "pygments_lexer": "ipython3",
   "version": "3.6.8"
  }
 },
 "nbformat": 4,
 "nbformat_minor": 2
}
