{
 "cells": [
  {
   "cell_type": "markdown",
   "metadata": {
    "nbpresent": {
     "id": "09c85bab-64bd-4b4b-b8fb-31159fe7ca37"
    }
   },
   "source": [
    "# 01. a. Introduction Into Data Analytics\n",
    "One doesn't simply become a data scientist...\n",
    "\n",
    "### Author: Daniel Kurniadi, MLDA Executive in Academic Division"
   ]
  },
  {
   "cell_type": "markdown",
   "metadata": {},
   "source": [
    "<img src=\"images/AWS_Banner.jpg\"/>"
   ]
  },
  {
   "cell_type": "markdown",
   "metadata": {},
   "source": [
    "### Abstract:\n",
    "\n",
    "The purpose of this research is to try a machine learning approach for predicting Diabetes diagnosis for medical application by looking at medical checkup result. The research contains: Data exploration, feature engineering, choosing appropriate scoring metric, cross algorithms, cross validation, tuning the algorithms,analysis of feature importance, analysis of residuals and performance evaluation. The used dataset is from years 1994.\n",
    "\n",
    "\n",
    "### Introduction:\n",
    "\n",
    "Diabetes patient records were obtained from two sources: an automatic electronic recording device and paper records. The automatic device had an internal clock to timestamp events, whereas the paper records only provided \"logical time\" slots (breakfast, lunch, dinner, bedtime). For paper records, fixed times were assigned to breakfast (08:00), lunch (12:00), dinner (18:00), and bedtime (22:00). Thus paper records have fictitious uniform recording times whereas electronic records have more realistic time stamps."
   ]
  },
  {
   "cell_type": "markdown",
   "metadata": {},
   "source": [
    "## Workshop Outline\n",
    "- <u>01.a.Introduction into Data Analytics (this workshop)\n",
    "- [01.b.Machine Learning in Cloud](#02.ML_in_Cloud.ipynb)"
   ]
  },
  {
   "cell_type": "markdown",
   "metadata": {},
   "source": [
    "### Table of Content\n",
    "\n",
    "**1. Project Setup** \n",
    "* 1.1 [Load libraries](#Load-libraries)\n",
    "* 1.2 [Load dataset](#Load-dataset)\n",
    "\n",
    "**2. Exploratory data analysis** \n",
    "* 2.1 [Understand the data with descriptive statistics](#Understand-the-data-with-descriptive-statistics)\n",
    "* 2.2 [Understand the data with plotting](#Understand-the-data-with-plotting)\n",
    "\n",
    "**3. Data preparation** \n",
    "* 3.1 [Data cleaning](#Data-cleaning)\n",
    "* 3.2 [Data transforms](#Data-transforms)\n",
    "* 3.3 [Feature selection](#Feature-selection)\n",
    "\n",
    "**4. Model evaluation** \n",
    "* 4.1 [Train Test split](#Train-Test-split)\n",
    "* 4.2 [Train model](#Train-model)\n",
    "* 4.3 [Test evaluation metric](#Test-evaluation-metric)\n",
    "\n",
    "**5. Model tuning**\n",
    "* 5.1 [Hyperparameter tuning](#Hyperparameter-tuning)\n",
    "\n",
    "**6. Model understanding**\n",
    "* 6.1 [Feature importance](#Feature-importance)\n",
    "* 6.2 [Paritial dependence plot](#Partial-dependence-plot)\n",
    "\n"
   ]
  },
  {
   "cell_type": "markdown",
   "metadata": {},
   "source": [
    "## Case Study: Diabetes Prediction\n",
    "Working through machine learning problems from end-to-end is critically important. You can read about machine learning. You can also try out small one-off recipes. But applied machine learning will not come alive for you until you work through a dataset from beginning to end.\n",
    "\n",
    "Working through a project forces you to think about how the model will be used, to challenge your assumptions and to get good at all parts of a project, not just your favorite parts. The best way to practice predictive modeling machine learning projects is to use standardized datasets from the UCI Machine Learning Repository or hone your skill on Kaggle data science competition. Once you have a practice dataset and a bunch of recipes, how do you put it all together and work through the problem end-to-end?"
   ]
  },
  {
   "cell_type": "markdown",
   "metadata": {},
   "source": [
    "### Data\n",
    "\n",
    "The diabetes data set was originated from [UCI Machine Learning Repository](https://archive.ics.uci.edu/ml/datasets/Pima+Indians+Diabetes) or [Kaggle: Diabetes data](https://www.kaggle.com/edubrq/diabetes). This dataset describes the medical records for Pima Indians and whether or not each patient will have an onset of diabetes within five years. \n",
    "\n",
    "**Data Dictionary**\n",
    "* `Pregnancies`: Number of times pregnant \n",
    "* `Glucose`: Plasma glucose concentration a 2 hours in an oral glucose tolerance test \n",
    "* `BloodPressure`: Diastolic blood pressure (mm Hg) \n",
    "* `SkinThickness`: Triceps skin fold thickness (mm) \n",
    "* `Insulin`: 2-Hour serum insulin (mu U/ml) \n",
    "* `BMI`: Body mass index (weight in kg/(height in m)^2) \n",
    "* `DiabetesPedigreeFunction`: Diabetes pedigree function \n",
    "* `Age`: Age (years) \n",
    "* `Outcome`: Class variable (0 or 1) denoting negative or positive diabetes outcome\n",
    "\n",
    "**The aim of our model** is to perform binary classification to predict the target: `Outcome`. "
   ]
  },
  {
   "cell_type": "markdown",
   "metadata": {
    "nbpresent": {
     "id": "30248960-5166-415a-a908-d6d4e3a23434"
    },
    "scrolled": true
   },
   "source": [
    "## 1. Project Setup"
   ]
  },
  {
   "cell_type": "markdown",
   "metadata": {
    "nbpresent": {
     "id": "6fa8daa0-5a50-49aa-b02f-3d2eb667cfd8"
    },
    "scrolled": false
   },
   "source": [
    "### 1.1 Load libraries"
   ]
  },
  {
   "cell_type": "code",
   "execution_count": null,
   "metadata": {
    "nbpresent": {
     "id": "e154db37-0823-4b9c-9e33-6e3e45067c23"
    }
   },
   "outputs": [],
   "source": [
    "import numpy  as np                                    # import numpy for number handling\n",
    "import pandas as pd                                    # import pandas for data wrangling\n",
    "import matplotlib.pyplot as plt                        # import matplotlib for ploting\n",
    "%matplotlib inline\n",
    "\n",
    "import sklearn                                         # package for predictive modeling\n",
    "from sklearn import metrics                            # metrics package to evaluate the models\n",
    "from sklearn.tree import plot_tree                     # visualisation for tree decision"
   ]
  },
  {
   "cell_type": "code",
   "execution_count": null,
   "metadata": {},
   "outputs": [],
   "source": [
    "import warnings\n",
    "import sklearn.exceptions as sk_exceptions\n",
    "\n",
    "# silent warning\n",
    "warnings.filterwarnings(\"ignore\", category=sk_exceptions.DataConversionWarning)\n",
    "warnings.filterwarnings(\"ignore\", category=DeprecationWarning)\n",
    "warnings.filterwarnings(\"ignore\", category=FutureWarning)"
   ]
  },
  {
   "cell_type": "markdown",
   "metadata": {},
   "source": [
    "### 1.2 Load dataset"
   ]
  },
  {
   "cell_type": "code",
   "execution_count": null,
   "metadata": {
    "nbpresent": {
     "id": "8286f07a-5e70-4423-a3f0-bd54f49f8cd4"
    },
    "scrolled": false
   },
   "outputs": [],
   "source": [
    "data = pd.read_csv('data/Diabetes/diabetes.csv')"
   ]
  },
  {
   "cell_type": "markdown",
   "metadata": {
    "nbpresent": {
     "id": "e6065c64-81a1-48ab-89ae-230b5462d7c2"
    },
    "scrolled": true
   },
   "source": [
    "## 2. Exploratory data analysis"
   ]
  },
  {
   "cell_type": "markdown",
   "metadata": {
    "nbpresent": {
     "id": "b105392f-323d-4751-9609-54bd0325f0e1"
    }
   },
   "source": [
    "After reading in the data, we first do some simple exploration, check available columns, data structure, and data summary."
   ]
  },
  {
   "cell_type": "markdown",
   "metadata": {},
   "source": [
    "### 2.1 Understand the data With descriptive statistics"
   ]
  },
  {
   "cell_type": "markdown",
   "metadata": {},
   "source": [
    "**Peek at your data**"
   ]
  },
  {
   "cell_type": "code",
   "execution_count": null,
   "metadata": {},
   "outputs": [],
   "source": [
    "data.head(5) # take a look at the first 5 rows"
   ]
  },
  {
   "cell_type": "code",
   "execution_count": null,
   "metadata": {},
   "outputs": [],
   "source": [
    "data.tail(5) # take a look at the last 5 rows"
   ]
  },
  {
   "cell_type": "markdown",
   "metadata": {},
   "source": [
    "**Structure of your data**"
   ]
  },
  {
   "cell_type": "code",
   "execution_count": null,
   "metadata": {},
   "outputs": [],
   "source": [
    "data.info() # data structure"
   ]
  },
  {
   "cell_type": "markdown",
   "metadata": {},
   "source": [
    "**Descriptive Statistics**"
   ]
  },
  {
   "cell_type": "code",
   "execution_count": null,
   "metadata": {},
   "outputs": [],
   "source": [
    "data.describe() # data summary"
   ]
  },
  {
   "cell_type": "markdown",
   "metadata": {},
   "source": [
    "**Class Distribution**"
   ]
  },
  {
   "cell_type": "code",
   "execution_count": null,
   "metadata": {},
   "outputs": [],
   "source": [
    "g_class = data.groupby('Outcome')  # group by Outcome\n",
    "s_class = g_class.size()           # check the number of samples in each class\n",
    "\n",
    "print(s_class)"
   ]
  },
  {
   "cell_type": "markdown",
   "metadata": {},
   "source": [
    "You can see that there are nearly double the number of observations with class 0 (no onset of diabetes) than there are with class 1 (onset of diabetes)."
   ]
  },
  {
   "cell_type": "markdown",
   "metadata": {},
   "source": [
    "**Correlations Between Attributes**"
   ]
  },
  {
   "cell_type": "code",
   "execution_count": null,
   "metadata": {},
   "outputs": [],
   "source": [
    "data.corr()"
   ]
  },
  {
   "cell_type": "markdown",
   "metadata": {},
   "source": [
    "### 2.2 Understand the data with plotting"
   ]
  },
  {
   "cell_type": "markdown",
   "metadata": {},
   "source": [
    "**Univariate Plots - Histograms**"
   ]
  },
  {
   "cell_type": "code",
   "execution_count": null,
   "metadata": {},
   "outputs": [],
   "source": [
    "# Plot histogram of column Pregnancies\n",
    "ax = data['Pregnancies'].hist(color='k', alpha=0.7, bins=18) # draw histogram\n",
    "\n",
    "ax.set_xlabel(\"Pregnancies\")  # set title for x axis\n",
    "ax.set_ylabel(\"Count\")        # set title for y axis"
   ]
  },
  {
   "cell_type": "code",
   "execution_count": null,
   "metadata": {},
   "outputs": [],
   "source": [
    "# Plot histogram of column Glucose\n",
    "ax = data['Glucose'].hist(color='k', alpha=0.7, bins=18) # draw histogram\n",
    "\n",
    "ax.set_xlabel(\"Glucose\")  # set title for x axis\n",
    "ax.set_ylabel(\"Count\")    # set title for y axis"
   ]
  },
  {
   "cell_type": "code",
   "execution_count": null,
   "metadata": {},
   "outputs": [],
   "source": [
    "# Plot histogram of every column \n",
    "data_wo_outcome = data.iloc[:, 0:8]                                    # pick out columns without outcome\n",
    "data_wo_outcome.hist(color='k', alpha=0.5, bins=30, figsize=(12, 8));   # draw histogram for each selected attribute"
   ]
  },
  {
   "cell_type": "markdown",
   "metadata": {},
   "source": [
    "**Univariate Plots - Boxplot**"
   ]
  },
  {
   "cell_type": "code",
   "execution_count": null,
   "metadata": {},
   "outputs": [],
   "source": [
    "# Plot boxplot of column Pregnancies\n",
    "ax = data['Pregnancies'].plot(kind = 'box')  # draw boxplot\n",
    "\n",
    "ax.set_xlabel(\"X\")              # set title for x axis\n",
    "ax.set_ylabel(\"Pregnancies\")    # set title for y axis"
   ]
  },
  {
   "cell_type": "code",
   "execution_count": null,
   "metadata": {},
   "outputs": [],
   "source": [
    "# Plot boxplot of column Glucose\n",
    "ax = data['Glucose'].plot(kind = 'box')  # draw boxplot\n",
    "\n",
    "ax.set_xlabel(\"X\")              # set title for x axis\n",
    "ax.set_ylabel(\"Glucose\")        # set title for y axis"
   ]
  },
  {
   "cell_type": "code",
   "execution_count": null,
   "metadata": {},
   "outputs": [],
   "source": [
    "# Plot boxplot of every column \n",
    "data_wo_outcome = data.iloc[:, 0:8]                                    # pick out columns without outcome\n",
    "\n",
    "data_wo_outcome.plot(kind='box', subplots=True, layout=(2, 4), figsize=(12, 6));"
   ]
  },
  {
   "cell_type": "markdown",
   "metadata": {},
   "source": [
    "**Multivariate Plots - Scatter Plot Matrix**\n",
    "\n",
    "A scatter plot shows the relationship between two variables as dots in two dimensions, one axis for each attribute. You can create a scatter plot for each pair of attributes in your data. Drawing all these scatter plots together is called a scatter plot matrix. Scatter plots are useful for spotting structured relationships between variables, like whether you could summarize the relationship between two variables with a line. Attributes with structured relationships may also be correlated and good candidates for removal from your dataset."
   ]
  },
  {
   "cell_type": "code",
   "execution_count": null,
   "metadata": {},
   "outputs": [],
   "source": [
    "from pandas.plotting import scatter_matrix\n",
    "\n",
    "scatter_matrix(data_wo_outcome, alpha=0.2, figsize=(18, 18), diagonal='kde');"
   ]
  },
  {
   "cell_type": "markdown",
   "metadata": {},
   "source": [
    "## 3. Data preparation\n",
    "\n",
    "### 3.1 Data cleaning\n",
    "Never assume the data is clean. If anything strange gets observed during exploratory data analysis in step 2, clarify with the data owner immediately. In our case, the dataset author has kindly preprocessed and clean our data.\n",
    "\n",
    "### 3.2 Data transforms\n",
    "Many machine learning algorithms make assumptions about your data. It is often a very good idea to prepare your data in such a way to best expose the structure of the problem to the machine learning algorithms that you intend to use.\n",
    "\n",
    "The good news about decision tree and random forest algorithm is that they are robust to outliers and do not make specific assumption about feature distribution. Therefore, data preprocessing such as scaling or normalization is not needed.\n",
    "\n",
    "### 3.3 Feature selection\n",
    "Feature selection is a process where you automatically select those features in your data that contribute most to the prediction variable or output in which you are interested. In step 6.1, We'll explore how to perform feature selection by feature importance analysis. "
   ]
  },
  {
   "cell_type": "markdown",
   "metadata": {},
   "source": [
    "## 4. Modellling and Model Evaluation"
   ]
  },
  {
   "cell_type": "markdown",
   "metadata": {},
   "source": [
    "### Mini Warm-up!\n",
    " How to decide the variety of a bear if we know its **color** and **where it lives**? \n",
    " \n",
    " <ul>\n",
    "    <li> <u>Feature</u>: (color, habitat) </li>\n",
    "    <li> Is the bear black or white ? Both? </li>\n",
    "    <li> Does the bear live in China ? North Pole? </li>\n",
    "</ul>\n",
    "\n",
    "<img src=\"images/illuDeciTree.png\">\n",
    "\n",
    "Solve the classification problem by asking a few questions, which can be implemented by `IF statements`."
   ]
  },
  {
   "cell_type": "markdown",
   "metadata": {},
   "source": [
    "### Intro to Decision Trees\n",
    "\n",
    "Decision Tree it's a hierarchical data structure implementing the divide-and-conquer strategy. We can think of Decision Tree model as:\n",
    "- Series of `IF-ELSE-THEN` rules\n",
    "- Can be used for **classification** and **regression** problems\n",
    "- Has two parts: **decision nodes** and **leaf nodes**\n",
    "\n",
    "#### Components of Decision Tree\n",
    "**1. Decision Nodes (internal node)** - Implementing a rule/function with discrete outcomes labeling the brances, and the decision is made based on input data. It help determine the sub-space.\n",
    "\n",
    "**2. Leaf Node (terminal node)** - The *decision* or value that constitutes the output which help determine the label of the sub-space. \n",
    "\n",
    "\n",
    "#### Mechanism of Decision Tree\n",
    "The decision tree is trying to recursively split the feature space so that most of the resulting samples in each sub-space belong to the sample class.\n",
    "\n",
    "<img src=\"images/splitspace.png\">"
   ]
  },
  {
   "cell_type": "markdown",
   "metadata": {},
   "source": [
    "### 4.1 Train-test split\n",
    "\n",
    "The simplest method that we can use to evaluate the performance of a machine learning algorithm is to use different training and testing datasets. We can take our original dataset and split it into two parts. Train the algorithm on the first part, make predictions on the second part and evaluate the predictions against the expected results. The size of the split can depend on the size and specifics of your dataset, although it is common to use 67% of the data for training and the remaining 33% for testing."
   ]
  },
  {
   "cell_type": "code",
   "execution_count": null,
   "metadata": {},
   "outputs": [],
   "source": [
    "import numpy as np\n",
    "\n",
    "# Split the dataset (X and Y) into training and testing sets\n",
    "from sklearn.model_selection import train_test_split\n",
    "\n",
    "X = data.loc[:, ['Pregnancies', 'Glucose', 'BloodPressure', 'SkinThickness', \n",
    "                 'Insulin', 'BMI', 'DiabetesPedigreeFunction', 'Age']]\n",
    "Y = data.loc[:, ['Outcome']]\n",
    "X_train, X_test, Y_train, Y_test = train_test_split(X, Y, test_size=0.33, random_state=1)"
   ]
  },
  {
   "cell_type": "markdown",
   "metadata": {},
   "source": [
    "### 4.2 Train model\n",
    "\n",
    "Using `DecisionTreeClassifier`, which define a Decision Tree model, as a classifier (model) for classification. \n",
    "\n",
    "Using `.fit()` function to train the model with given data **X** and **Y**."
   ]
  },
  {
   "cell_type": "code",
   "execution_count": null,
   "metadata": {},
   "outputs": [],
   "source": [
    "# Train a random forest on the training data\n",
    "from sklearn.tree import DecisionTreeClassifier\n",
    "\n",
    "tree_clf = DecisionTreeClassifier(random_state=1, max_depth=7)\n",
    "tree_clf = tree_clf.fit(X_train, Y_train)"
   ]
  },
  {
   "cell_type": "markdown",
   "metadata": {},
   "source": [
    "### 4.3 Test evaluation metric"
   ]
  },
  {
   "cell_type": "markdown",
   "metadata": {},
   "source": [
    "Classification accuracy is the number of correct predictions made as a ratio of all predictions made."
   ]
  },
  {
   "cell_type": "code",
   "execution_count": null,
   "metadata": {},
   "outputs": [],
   "source": [
    "# Predict the class labels of the training and testing data\n",
    "Y_pred_train = tree_clf.predict(X_train)\n",
    "Y_pred_test  = tree_clf.predict(X_test)\n",
    "\n",
    "# Compute the classification accuracy\n",
    "from sklearn import metrics\n",
    "\n",
    "acc_train = metrics.accuracy_score(Y_train, Y_pred_train)\n",
    "acc_test  = metrics.accuracy_score(Y_test,  Y_pred_test)\n",
    "\n",
    "print( \"The training accuracy is: \", round(acc_train*100,2), '%')\n",
    "print( \"The testing accuracy is:  \", round(acc_test*100, 2), '%')"
   ]
  },
  {
   "cell_type": "code",
   "execution_count": null,
   "metadata": {},
   "outputs": [],
   "source": [
    "# Area Under Curve (AUC)\n",
    "fpr, tpr, thresholds = metrics.roc_curve(Y_test, Y_pred_test)\n",
    "auc = metrics.auc(fpr, tpr)\n",
    "\n",
    "# Plot ROC AUC Curve\n",
    "plt.plot(fpr,tpr);\n",
    "plt.title('Area Under Curve Plot for ROC')\n",
    "plt.legend(labels=[\"diabetes data | auc=\"+str(auc)]);"
   ]
  },
  {
   "cell_type": "markdown",
   "metadata": {},
   "source": [
    "#### Overfitting problem\n",
    "\n",
    "<span style=\"color:#E32636\"> The training accuracy is 100% but the testing accuracy is only 70.4% !! </span> The model is not good enough for the test (unseen) data. <span style=\"color:#225B91\">This is known as _**overfitting**_. </span>"
   ]
  },
  {
   "cell_type": "markdown",
   "metadata": {},
   "source": [
    "**How to avoid Overfitting?**\n",
    "\n",
    "+ <u>Tree Pruning</u> : For decision trees, maximum depth of the tree,  minimum samples at the leaf node, the number of features to consider at each node are some of the hyperparameters. We can reduce the complexity of our model by pruning some tree leafs\n",
    "+ <u>Ensemble methods</u>: Combine the predictions of several base models. In our case, combine the predictions of several decision trees. Bagging Decision Trees and Random Forest are the popular decision tree based ensemble methods."
   ]
  },
  {
   "cell_type": "markdown",
   "metadata": {},
   "source": [
    "## 5. Random Forest: Bagging and Ensembling"
   ]
  },
  {
   "cell_type": "markdown",
   "metadata": {},
   "source": [
    "**Random Forest**: a popular ensemble of decision tree. \n",
    "\n",
    "Random Forest =  _bagging_ + _random subspace_.\n",
    "<ul>\n",
    "    <li>Bagging: train each base model using *bootstrapped* version of the *training data*. The training data for each base model is constructed by sampling from the original data _uniformly and with replacement_.    \n",
    "    <li>Random subspace: <span style=\"color:#E32636\">Remember that each node except the leaf nodes of a decision tree use a single feature and a threshold to direct the samples into left and right child node? </span> In standard decision trees, a feature is selected from a pool of all the features. However, decision trees in Random Forest pick the feature from a pool of random subset of features instead of all the features. Ensemble based on this technique is known as random subspace."
   ]
  },
  {
   "cell_type": "markdown",
   "metadata": {},
   "source": [
    "<img src=\"images/bagging.png\" width=\"650px\">"
   ]
  },
  {
   "cell_type": "markdown",
   "metadata": {},
   "source": [
    "Both of these methods, de-correlate individual trees. The predictions of the decision trees are combined using majority voting (or in some cases weighted voting).\n",
    "\n",
    "Below, we access the performance of Random Forest in both classification and regression problems.\n",
    "In general, Random Forest requires less hyperparameter tuning comparing to other machine learning algorithms such as neural networks and gradient boosting machines. \n",
    "\n",
    "In below, we tune several parameters as follows. Feel free to tune and try out different numbers.\n",
    "\n",
    "- `max_depth`: Maximum depth that a tree can grow. The deeper the depth, the more our random forest become complicated. \n",
    "- `n_estimators`: Number of trees to be ensembled in random forest. Ensembling technique used is majority voting.\n",
    "\n",
    "    "
   ]
  },
  {
   "cell_type": "code",
   "execution_count": null,
   "metadata": {},
   "outputs": [],
   "source": [
    "from sklearn.ensemble import RandomForestClassifier\n",
    "\n",
    "# re-train the model\n",
    "forest_clf = RandomForestClassifier(max_depth=7, n_estimators=300, random_state=1) \n",
    "forest_clf = forest_clf.fit(X_train, Y_train)"
   ]
  },
  {
   "cell_type": "code",
   "execution_count": null,
   "metadata": {},
   "outputs": [],
   "source": [
    "# Accuracy\n",
    "Y_pred_train = forest_clf.predict(X_train)\n",
    "Y_pred_test  = forest_clf.predict(X_test)\n",
    "\n",
    "# Compute the classification accuracy\n",
    "from sklearn import metrics\n",
    "\n",
    "acc_train = metrics.accuracy_score(Y_train, Y_pred_train)\n",
    "acc_test  = metrics.accuracy_score(Y_test,  Y_pred_test)\n",
    "\n",
    "print( \"The training accuracy is: \", round(acc_train*100,2), '%')\n",
    "print( \"The testing accuracy is:  \", round(acc_test*100, 2), '%')"
   ]
  },
  {
   "cell_type": "markdown",
   "metadata": {},
   "source": [
    "Notice an improvement in the generalization on test data? Random forest model is more stable than decision trees. For further understanding, you can refer to the </span> <span style=\"color:#225B91\"> bias-variance analysis </span> in your own time."
   ]
  },
  {
   "cell_type": "code",
   "execution_count": null,
   "metadata": {},
   "outputs": [],
   "source": [
    "x = forest_clf.predict_proba(X_test)"
   ]
  },
  {
   "cell_type": "code",
   "execution_count": null,
   "metadata": {},
   "outputs": [],
   "source": [
    "# Area Under Curve (AUC)\n",
    "Y_proba_test = forest_clf.predict_proba(X_test)[::,1]\n",
    "fpr, tpr, thresholds = metrics.roc_curve(Y_test, Y_proba_test)\n",
    "auc = metrics.auc(fpr, tpr)\n",
    "\n",
    "# Plot ROC AUC Curve\n",
    "plt.plot(fpr,tpr);\n",
    "plt.title('Area Under Curve Plot for ROC')\n",
    "plt.legend(labels=[\"diabetes data | auc=\"+str(auc)]);"
   ]
  },
  {
   "cell_type": "markdown",
   "metadata": {},
   "source": [
    "## 6. Model understanding"
   ]
  },
  {
   "cell_type": "markdown",
   "metadata": {},
   "source": [
    "### 6.1 Feature importance"
   ]
  },
  {
   "cell_type": "code",
   "execution_count": null,
   "metadata": {},
   "outputs": [],
   "source": [
    "# Feature names\n",
    "f_names = ['Preg.', 'Gluc.', 'BPre.', 'SkTh.', 'Insu.', 'BMI  ', 'DiPe.', 'Age  ']\n",
    "\n",
    "# Compute and print the feature ranking\n",
    "imp_feat_rf = forest_clf.feature_importances_\n",
    "indices = np.argsort(imp_feat_rf)[::-1] # sort the features according to their importance\n",
    "\n",
    "print(\"Feature ranking:\\n\")\n",
    "\n",
    "for f in range (X_train.shape[1]):\n",
    "    print(\"%d. %s   (%f)\" % (f+1, f_names[indices[f]], imp_feat_rf[indices[f]]))"
   ]
  },
  {
   "cell_type": "code",
   "execution_count": null,
   "metadata": {},
   "outputs": [],
   "source": [
    "# Plot the features\n",
    "ind = X_train.columns\n",
    "\n",
    "imp_feat_rf = pd.Series(imp_feat_rf,ind).sort_values(ascending=False)\n",
    "imp_feat_rf[:].plot(kind='bar', title='Feature importance with Random Forest', \n",
    "                    color = 'k', alpha=0.7, figsize=(12,8))\n",
    "plt.ylabel('Feature Importance values')\n",
    "plt.subplots_adjust(bottom=0.25)\n",
    "plt.show()"
   ]
  },
  {
   "cell_type": "markdown",
   "metadata": {},
   "source": [
    "### 6.2 Visualise Decision Tree\n",
    "For each pair of iris features, the decision tree learns decision boundaries made of combinations of simple thresholding rules inferred from the training samples.\n",
    "\n",
    "Now, how do we understand our decision tree model's decision? Can we even interpret our mathematical model? \n",
    "\n",
    "> In rapid development of AI, interpretability is key as it is a cornerstone of the rules and processes that are defined. As correlation often does not equal causality, a solid model understanding is needed when it comes to making decisions and explaining them."
   ]
  },
  {
   "cell_type": "markdown",
   "metadata": {},
   "source": [
    "Now luckily, *Decision Tree* model is an easily interpretable model. Here, we can even visualize their decision!"
   ]
  },
  {
   "cell_type": "code",
   "execution_count": null,
   "metadata": {},
   "outputs": [],
   "source": [
    "# Decision Tree\n",
    "plt.figure(figsize=(16,16))\n",
    "plot_tree(tree_clf, filled=True)\n",
    "plt.show()"
   ]
  },
  {
   "cell_type": "markdown",
   "metadata": {},
   "source": [
    "### 6.3 Partital dependence plot [optional]"
   ]
  },
  {
   "cell_type": "code",
   "execution_count": null,
   "metadata": {},
   "outputs": [],
   "source": [
    "from sklearn.ensemble import GradientBoostingClassifier\n",
    "from sklearn.ensemble.partial_dependence import plot_partial_dependence\n",
    "\n",
    "clf = GradientBoostingClassifier(n_estimators=100, learning_rate=1.0, max_depth=1, random_state=0)\\\n",
    "        .fit(X_train, Y_train)\n",
    "f_importance = clf.feature_importances_  \n",
    "\n",
    "f_names = ['Pregnacies', 'Glucose.', 'BloodPressure', 'SkinThickness.', 'Insulin', 'BMI', 'DiabetesPedigreeFunction', 'Age']\n",
    "\n",
    "for i in range(X_train.shape[1]):\n",
    "    fig, axs = plot_partial_dependence(clf, X_train, [i], feature_names=f_names)"
   ]
  },
  {
   "cell_type": "code",
   "execution_count": null,
   "metadata": {},
   "outputs": [],
   "source": []
  }
 ],
 "metadata": {
  "anaconda-cloud": {},
  "kernelspec": {
   "display_name": "Python 3",
   "language": "python",
   "name": "python3"
  },
  "language_info": {
   "codemirror_mode": {
    "name": "ipython",
    "version": 3
   },
   "file_extension": ".py",
   "mimetype": "text/x-python",
   "name": "python",
   "nbconvert_exporter": "python",
   "pygments_lexer": "ipython3",
   "version": "3.6.9"
  },
  "nbpresent": {
   "slides": {
    "037d994f-b6de-4ed8-9958-170a56092b39": {
     "id": "037d994f-b6de-4ed8-9958-170a56092b39",
     "prev": "f99c1815-0594-49d9-b4a6-38db28a1f981",
     "regions": {
      "37f0a335-65b1-445f-a395-db357ab01119": {
       "attrs": {
        "height": 0.8,
        "width": 0.8,
        "x": 0.1,
        "y": 0.1
       },
       "content": {
        "cell": "f211b74a-02c1-4f5c-a141-ab15f23fd870",
        "part": "whole"
       },
       "id": "37f0a335-65b1-445f-a395-db357ab01119"
      }
     }
    },
    "060d6da1-97c1-481b-823c-b3c77259fca7": {
     "id": "060d6da1-97c1-481b-823c-b3c77259fca7",
     "prev": "5f566194-09f1-436c-ac43-fe638d2bb884",
     "regions": {
      "d0b5765e-ede3-4cd3-9ef1-048b2c8baf77": {
       "attrs": {
        "height": 0.8,
        "width": 0.8,
        "x": 0.1,
        "y": 0.1
       },
       "content": {
        "cell": "6fa8daa0-5a50-49aa-b02f-3d2eb667cfd8",
        "part": "whole"
       },
       "id": "d0b5765e-ede3-4cd3-9ef1-048b2c8baf77"
      }
     }
    },
    "08e66a80-ccc5-4849-adc3-449bfa5fe5ef": {
     "id": "08e66a80-ccc5-4849-adc3-449bfa5fe5ef",
     "prev": "3d501e6f-83c3-4d2b-a1d2-63ed4ffd669b",
     "regions": {
      "d8e9d007-2977-4ef6-b380-c5bd3013511d": {
       "attrs": {
        "height": 0.8,
        "width": 0.8,
        "x": 0.1,
        "y": 0.1
       },
       "content": {
        "cell": "62575982-17b0-47ed-a124-d3be68646120",
        "part": "whole"
       },
       "id": "d8e9d007-2977-4ef6-b380-c5bd3013511d"
      }
     }
    },
    "127f7ddf-d6f9-48bc-ba2d-5f1a755e33fb": {
     "id": "127f7ddf-d6f9-48bc-ba2d-5f1a755e33fb",
     "prev": "72acae5a-9cf4-4106-933f-029db77156bc",
     "regions": {
      "f5d4659e-65fc-423c-9c83-b01b1f2ec3f7": {
       "attrs": {
        "height": 0.8,
        "width": 0.8,
        "x": 0.1,
        "y": 0.1
       },
       "content": {
        "cell": "cdabcf10-7540-479d-b862-2ac5081394b6",
        "part": "whole"
       },
       "id": "f5d4659e-65fc-423c-9c83-b01b1f2ec3f7"
      }
     }
    },
    "165e09c7-bbd1-4084-9aff-a048766875cc": {
     "id": "165e09c7-bbd1-4084-9aff-a048766875cc",
     "prev": null,
     "regions": {
      "238b46c8-62e0-4de3-b50a-34ac24df7731": {
       "attrs": {
        "height": 0.8,
        "width": 0.8,
        "x": 0.1,
        "y": 0.1
       },
       "content": {
        "cell": "09c85bab-64bd-4b4b-b8fb-31159fe7ca37",
        "part": "whole"
       },
       "id": "238b46c8-62e0-4de3-b50a-34ac24df7731"
      }
     }
    },
    "184bbb61-bcc2-4b69-8999-3003a1ff1826": {
     "id": "184bbb61-bcc2-4b69-8999-3003a1ff1826",
     "prev": "4032a710-c3f4-4f48-bf95-7d25a67fb185",
     "regions": {
      "7ba39599-d99b-4d05-ba1f-e2f9ddf0eccb": {
       "attrs": {
        "height": 0.8,
        "width": 0.8,
        "x": 0.1,
        "y": 0.1
       },
       "content": {
        "cell": "613a6222-a014-4235-afba-c30af848f091",
        "part": "whole"
       },
       "id": "7ba39599-d99b-4d05-ba1f-e2f9ddf0eccb"
      }
     }
    },
    "189a8448-123c-453e-91ac-837b87f4c52f": {
     "id": "189a8448-123c-453e-91ac-837b87f4c52f",
     "prev": "060d6da1-97c1-481b-823c-b3c77259fca7",
     "regions": {
      "95b47586-50eb-47b4-906f-8bbdce003201": {
       "attrs": {
        "height": 0.8,
        "width": 0.8,
        "x": 0.1,
        "y": 0.1
       },
       "content": {
        "cell": "e154db37-0823-4b9c-9e33-6e3e45067c23",
        "part": "whole"
       },
       "id": "95b47586-50eb-47b4-906f-8bbdce003201"
      }
     }
    },
    "2a15b19c-721e-4309-8dc3-2767a9262c5e": {
     "id": "2a15b19c-721e-4309-8dc3-2767a9262c5e",
     "prev": "184bbb61-bcc2-4b69-8999-3003a1ff1826",
     "regions": {
      "4a81144e-9bc9-4229-8c71-4581b13cf463": {
       "attrs": {
        "height": 0.8,
        "width": 0.8,
        "x": 0.1,
        "y": 0.1
       },
       "content": {
        "cell": "6bba0292-12f7-4f35-849c-3adb3b915de9",
        "part": "whole"
       },
       "id": "4a81144e-9bc9-4229-8c71-4581b13cf463"
      }
     }
    },
    "2a8c384f-5eaa-416c-a129-bd48f289fece": {
     "id": "2a8c384f-5eaa-416c-a129-bd48f289fece",
     "prev": "a72d566b-3564-450d-803c-811a2e98e014",
     "regions": {
      "ec0d67be-e14f-44f8-a4b1-7a6b202bd3b8": {
       "attrs": {
        "height": 0.8,
        "width": 0.8,
        "x": 0.1,
        "y": 0.1
       },
       "content": {
        "cell": "b10664db-f67a-4b04-8b7a-edec9d65b8b2",
        "part": "whole"
       },
       "id": "ec0d67be-e14f-44f8-a4b1-7a6b202bd3b8"
      }
     }
    },
    "3013eaf0-1eb9-4115-a74a-2e386691f07d": {
     "id": "3013eaf0-1eb9-4115-a74a-2e386691f07d",
     "prev": "c5e98f18-a0fb-4365-9b37-19db45e9c0f1",
     "regions": {
      "dadf18ff-3d08-46e9-b74c-87131629f42a": {
       "attrs": {
        "height": 0.8,
        "width": 0.8,
        "x": 0.1,
        "y": 0.1
       },
       "content": {
        "cell": "e6065c64-81a1-48ab-89ae-230b5462d7c2",
        "part": "whole"
       },
       "id": "dadf18ff-3d08-46e9-b74c-87131629f42a"
      }
     }
    },
    "3aa278f9-1a89-496a-a3e2-dffc230a350d": {
     "id": "3aa278f9-1a89-496a-a3e2-dffc230a350d",
     "prev": "e2fbd982-c138-4d75-ac97-197ae3d6742f",
     "regions": {
      "a336704b-d60b-48d7-a21f-d352aecd5724": {
       "attrs": {
        "height": 0.8,
        "width": 0.8,
        "x": 0.1,
        "y": 0.1
       },
       "content": {
        "cell": "5289d41d-da2e-47dc-80a3-63992c8a86a0",
        "part": "whole"
       },
       "id": "a336704b-d60b-48d7-a21f-d352aecd5724"
      }
     }
    },
    "3d501e6f-83c3-4d2b-a1d2-63ed4ffd669b": {
     "id": "3d501e6f-83c3-4d2b-a1d2-63ed4ffd669b",
     "prev": "7d111e5d-8c4d-4983-a708-52ac154024b6",
     "regions": {
      "ff3c6ba0-25af-4880-bf0e-718997aa7a6d": {
       "attrs": {
        "height": 0.8,
        "width": 0.8,
        "x": 0.1,
        "y": 0.1
       },
       "content": {
        "cell": "46ca8126-4f24-46cc-be56-39dd744a9d80",
        "part": "whole"
       },
       "id": "ff3c6ba0-25af-4880-bf0e-718997aa7a6d"
      }
     }
    },
    "4032a710-c3f4-4f48-bf95-7d25a67fb185": {
     "id": "4032a710-c3f4-4f48-bf95-7d25a67fb185",
     "prev": "87092331-e05c-4411-9cfa-ee6ca5cefbc7",
     "regions": {
      "9cc776f3-0522-4ebe-a448-e2a0148ff531": {
       "attrs": {
        "height": 0.8,
        "width": 0.8,
        "x": 0.1,
        "y": 0.1
       },
       "content": {
        "cell": "9ed455c9-7c52-4e94-a3b7-da6264ea1b25",
        "part": "whole"
       },
       "id": "9cc776f3-0522-4ebe-a448-e2a0148ff531"
      }
     }
    },
    "43f95af2-3a38-45fa-aac9-2527905284ea": {
     "id": "43f95af2-3a38-45fa-aac9-2527905284ea",
     "prev": "cfce1e41-bd03-4f35-ac4c-a086e9f9eb5d",
     "regions": {
      "83564c2b-c332-4917-b705-32a6c96c3bfd": {
       "attrs": {
        "height": 0.8,
        "width": 0.8,
        "x": 0.1,
        "y": 0.1
       },
       "content": {
        "cell": "a2aa2619-ad43-46b8-87a5-ffcf2aa5e0b3",
        "part": "whole"
       },
       "id": "83564c2b-c332-4917-b705-32a6c96c3bfd"
      }
     }
    },
    "45fe1251-5f24-42a5-bd2f-e52699b44935": {
     "id": "45fe1251-5f24-42a5-bd2f-e52699b44935",
     "prev": "53db062a-5e1d-4e62-b54b-0f5422e09301",
     "regions": {
      "77315f0d-f653-4078-9a47-8ad9152d5376": {
       "attrs": {
        "height": 0.8,
        "width": 0.8,
        "x": 0.1,
        "y": 0.1
       },
       "content": {
        "cell": "21ec7619-3b05-4f2e-90bc-98c03cc7fe1f",
        "part": "whole"
       },
       "id": "77315f0d-f653-4078-9a47-8ad9152d5376"
      }
     }
    },
    "53db062a-5e1d-4e62-b54b-0f5422e09301": {
     "id": "53db062a-5e1d-4e62-b54b-0f5422e09301",
     "prev": "2a15b19c-721e-4309-8dc3-2767a9262c5e",
     "regions": {
      "b02973f5-07b3-45df-aab9-f587bd464b08": {
       "attrs": {
        "height": 0.8,
        "width": 0.8,
        "x": 0.1,
        "y": 0.1
       },
       "content": {
        "cell": "bc1a8e5b-fcb3-492c-8a12-90391166b6f4",
        "part": "whole"
       },
       "id": "b02973f5-07b3-45df-aab9-f587bd464b08"
      }
     }
    },
    "5ae57a89-fc55-4fcc-b22f-f7271836c305": {
     "id": "5ae57a89-fc55-4fcc-b22f-f7271836c305",
     "prev": "b62e5716-5847-4cf9-959a-b7adcc1b20ef",
     "regions": {
      "af4301f5-559a-4e5d-9e4b-e89becdf95a9": {
       "attrs": {
        "height": 0.8,
        "width": 0.8,
        "x": 0.1,
        "y": 0.1
       },
       "content": {
        "cell": "16912f32-f314-4833-a575-99fa8bdaa0f9",
        "part": "whole"
       },
       "id": "af4301f5-559a-4e5d-9e4b-e89becdf95a9"
      }
     }
    },
    "5f566194-09f1-436c-ac43-fe638d2bb884": {
     "id": "5f566194-09f1-436c-ac43-fe638d2bb884",
     "prev": "c8c84d6d-83b7-4a2b-81a0-aa08b5db606e",
     "regions": {
      "d50c0e6b-014f-45e2-a691-0c9b26d52cbf": {
       "attrs": {
        "height": 0.8,
        "width": 0.8,
        "x": 0.1,
        "y": 0.1
       },
       "content": {
        "cell": "b105392f-323d-4751-9609-54bd0325f0e1",
        "part": "whole"
       },
       "id": "d50c0e6b-014f-45e2-a691-0c9b26d52cbf"
      }
     }
    },
    "653e40a9-f90d-4e96-9c3a-cc0496bf63dc": {
     "id": "653e40a9-f90d-4e96-9c3a-cc0496bf63dc",
     "prev": "934f04be-37a9-4b4d-b3c2-7033bd37ecde",
     "regions": {
      "c2711c63-f19e-4012-a288-0cfa7ff5b417": {
       "attrs": {
        "height": 0.8,
        "width": 0.8,
        "x": 0.1,
        "y": 0.1
       },
       "content": {
        "cell": "08988c3b-64cd-48d0-a4f6-4b638c3fc0b9",
        "part": "whole"
       },
       "id": "c2711c63-f19e-4012-a288-0cfa7ff5b417"
      }
     }
    },
    "72acae5a-9cf4-4106-933f-029db77156bc": {
     "id": "72acae5a-9cf4-4106-933f-029db77156bc",
     "prev": "3aa278f9-1a89-496a-a3e2-dffc230a350d",
     "regions": {
      "30441cb5-c56b-4581-91bc-bf3445a22177": {
       "attrs": {
        "height": 0.8,
        "width": 0.8,
        "x": 0.1,
        "y": 0.1
       },
       "content": {
        "cell": "f5029f70-616e-4d5a-a31e-88f28fbc3b3e",
        "part": "whole"
       },
       "id": "30441cb5-c56b-4581-91bc-bf3445a22177"
      }
     }
    },
    "7d111e5d-8c4d-4983-a708-52ac154024b6": {
     "id": "7d111e5d-8c4d-4983-a708-52ac154024b6",
     "prev": "037d994f-b6de-4ed8-9958-170a56092b39",
     "regions": {
      "32bd581a-dcb2-4081-83e9-db01a8c61d8b": {
       "attrs": {
        "height": 0.8,
        "width": 0.8,
        "x": 0.1,
        "y": 0.1
       },
       "content": {
        "cell": "fc2879a2-4cee-480f-b05a-4d5827cad4cb",
        "part": "whole"
       },
       "id": "32bd581a-dcb2-4081-83e9-db01a8c61d8b"
      }
     }
    },
    "87092331-e05c-4411-9cfa-ee6ca5cefbc7": {
     "id": "87092331-e05c-4411-9cfa-ee6ca5cefbc7",
     "prev": "2a8c384f-5eaa-416c-a129-bd48f289fece",
     "regions": {
      "83217bed-9a51-46ea-80dc-7f05e56601d7": {
       "attrs": {
        "height": 0.8,
        "width": 0.8,
        "x": 0.1,
        "y": 0.1
       },
       "content": {
        "cell": "a2666c2d-d268-4943-91cd-668ce69be9bf",
        "part": "whole"
       },
       "id": "83217bed-9a51-46ea-80dc-7f05e56601d7"
      }
     }
    },
    "88e78a8c-b3c3-426c-9daf-001fbca578c0": {
     "id": "88e78a8c-b3c3-426c-9daf-001fbca578c0",
     "prev": "f640a13f-4d82-4684-9958-adb7dbd17370",
     "regions": {
      "df760d39-1832-4a05-a1fb-2341a1e09c93": {
       "attrs": {
        "height": 0.8,
        "width": 0.8,
        "x": 0.1,
        "y": 0.1
       },
       "content": {
        "cell": "4dd63516-02e8-465f-8989-9f578470492d",
        "part": "whole"
       },
       "id": "df760d39-1832-4a05-a1fb-2341a1e09c93"
      }
     }
    },
    "934f04be-37a9-4b4d-b3c2-7033bd37ecde": {
     "id": "934f04be-37a9-4b4d-b3c2-7033bd37ecde",
     "prev": "5ae57a89-fc55-4fcc-b22f-f7271836c305",
     "regions": {
      "d599307c-6699-427f-a19e-372e155d9442": {
       "attrs": {
        "height": 0.8,
        "width": 0.8,
        "x": 0.1,
        "y": 0.1
       },
       "content": {
        "cell": "3f90a2cb-cb76-431b-858d-a552dffe28d8",
        "part": "whole"
       },
       "id": "d599307c-6699-427f-a19e-372e155d9442"
      }
     }
    },
    "a72d566b-3564-450d-803c-811a2e98e014": {
     "id": "a72d566b-3564-450d-803c-811a2e98e014",
     "prev": "3013eaf0-1eb9-4115-a74a-2e386691f07d",
     "regions": {
      "9f8e5877-ed2d-4e3b-ba10-8395915d7c61": {
       "attrs": {
        "height": 0.8,
        "width": 0.8,
        "x": 0.1,
        "y": 0.1
       },
       "content": {
        "cell": "01fb2ffb-bfe4-4b73-9116-2f2dc20ccb52",
        "part": "whole"
       },
       "id": "9f8e5877-ed2d-4e3b-ba10-8395915d7c61"
      }
     }
    },
    "b62e5716-5847-4cf9-959a-b7adcc1b20ef": {
     "id": "b62e5716-5847-4cf9-959a-b7adcc1b20ef",
     "prev": "eaab4f5e-5ace-4025-b0f1-165754fb6d3d",
     "regions": {
      "f3621dc3-62e2-4479-ba98-a6f1f77ebf38": {
       "attrs": {
        "height": 0.8,
        "width": 0.8,
        "x": 0.1,
        "y": 0.1
       },
       "content": {
        "cell": "5d4f88a6-7241-4e46-8249-d50273fcf6db",
        "part": "whole"
       },
       "id": "f3621dc3-62e2-4479-ba98-a6f1f77ebf38"
      }
     }
    },
    "c2271e71-a302-42e2-86f9-a6a08f8b6aec": {
     "id": "c2271e71-a302-42e2-86f9-a6a08f8b6aec",
     "prev": "165e09c7-bbd1-4084-9aff-a048766875cc",
     "regions": {
      "041db447-bbb4-4163-bd58-104a84be857a": {
       "attrs": {
        "height": 0.8,
        "width": 0.8,
        "x": 0.1,
        "y": 0.1
       },
       "content": {
        "cell": "30248960-5166-415a-a908-d6d4e3a23434",
        "part": "whole"
       },
       "id": "041db447-bbb4-4163-bd58-104a84be857a"
      }
     }
    },
    "c5e98f18-a0fb-4365-9b37-19db45e9c0f1": {
     "id": "c5e98f18-a0fb-4365-9b37-19db45e9c0f1",
     "prev": "189a8448-123c-453e-91ac-837b87f4c52f",
     "regions": {
      "e4ef0b75-fac6-4a29-8e70-d8e288113551": {
       "attrs": {
        "height": 0.8,
        "width": 0.8,
        "x": 0.1,
        "y": 0.1
       },
       "content": {
        "cell": "8286f07a-5e70-4423-a3f0-bd54f49f8cd4",
        "part": "whole"
       },
       "id": "e4ef0b75-fac6-4a29-8e70-d8e288113551"
      }
     }
    },
    "c8c84d6d-83b7-4a2b-81a0-aa08b5db606e": {
     "id": "c8c84d6d-83b7-4a2b-81a0-aa08b5db606e",
     "prev": "c2271e71-a302-42e2-86f9-a6a08f8b6aec",
     "regions": {
      "4d30b2fb-54ae-41f8-a8c9-e820c775d124": {
       "attrs": {
        "height": 0.8,
        "width": 0.8,
        "x": 0.1,
        "y": 0.1
       },
       "content": {
        "cell": "d54fc4ad-016e-422b-af93-2b7efc3c16ed",
        "part": "whole"
       },
       "id": "4d30b2fb-54ae-41f8-a8c9-e820c775d124"
      }
     }
    },
    "cfce1e41-bd03-4f35-ac4c-a086e9f9eb5d": {
     "id": "cfce1e41-bd03-4f35-ac4c-a086e9f9eb5d",
     "prev": "653e40a9-f90d-4e96-9c3a-cc0496bf63dc",
     "regions": {
      "dc13713f-b2ee-4841-aa74-ed73d818a249": {
       "attrs": {
        "height": 0.8,
        "width": 0.8,
        "x": 0.1,
        "y": 0.1
       },
       "content": {
        "cell": "2cc66b77-a1d5-4dd0-bd69-8c9994dde5d6",
        "part": "whole"
       },
       "id": "dc13713f-b2ee-4841-aa74-ed73d818a249"
      }
     }
    },
    "da6b9e0b-0344-47d7-8d1a-d85cf8e53921": {
     "id": "da6b9e0b-0344-47d7-8d1a-d85cf8e53921",
     "prev": "43f95af2-3a38-45fa-aac9-2527905284ea",
     "regions": {
      "8f60e1e9-d492-4e14-9604-91591a2dc032": {
       "attrs": {
        "height": 0.8,
        "width": 0.8,
        "x": 0.1,
        "y": 0.1
       },
       "content": {
        "cell": "743bc2b3-b029-43cf-b7b4-3a734f90d171",
        "part": "whole"
       },
       "id": "8f60e1e9-d492-4e14-9604-91591a2dc032"
      }
     }
    },
    "e2fbd982-c138-4d75-ac97-197ae3d6742f": {
     "id": "e2fbd982-c138-4d75-ac97-197ae3d6742f",
     "prev": "da6b9e0b-0344-47d7-8d1a-d85cf8e53921",
     "regions": {
      "f26d0900-cdd5-4ab5-abd6-fdf56da270bc": {
       "attrs": {
        "height": 0.8,
        "width": 0.8,
        "x": 0.1,
        "y": 0.1
       },
       "content": {
        "cell": "e906b758-1796-40fe-89b0-2e69059130a7",
        "part": "whole"
       },
       "id": "f26d0900-cdd5-4ab5-abd6-fdf56da270bc"
      }
     }
    },
    "eaab4f5e-5ace-4025-b0f1-165754fb6d3d": {
     "id": "eaab4f5e-5ace-4025-b0f1-165754fb6d3d",
     "prev": "45fe1251-5f24-42a5-bd2f-e52699b44935",
     "regions": {
      "3fbba3a1-3f5c-41c4-8093-003a89c88653": {
       "attrs": {
        "height": 0.8,
        "width": 0.8,
        "x": 0.1,
        "y": 0.1
       },
       "content": {
        "cell": "a7179b38-5181-4549-b6ec-4988aa279c88",
        "part": "whole"
       },
       "id": "3fbba3a1-3f5c-41c4-8093-003a89c88653"
      }
     }
    },
    "f640a13f-4d82-4684-9958-adb7dbd17370": {
     "id": "f640a13f-4d82-4684-9958-adb7dbd17370",
     "prev": "127f7ddf-d6f9-48bc-ba2d-5f1a755e33fb",
     "regions": {
      "1b4dbe06-4c43-4de1-911a-b5a5e28e8bdb": {
       "attrs": {
        "height": 0.8,
        "width": 0.8,
        "x": 0.1,
        "y": 0.1
       },
       "content": {
        "cell": "0b3ee273-8060-4aea-901f-2299f15bceb2",
        "part": "whole"
       },
       "id": "1b4dbe06-4c43-4de1-911a-b5a5e28e8bdb"
      }
     }
    },
    "f99c1815-0594-49d9-b4a6-38db28a1f981": {
     "id": "f99c1815-0594-49d9-b4a6-38db28a1f981",
     "prev": "88e78a8c-b3c3-426c-9daf-001fbca578c0",
     "regions": {
      "395a719d-1249-4ee9-bc13-9ab8bb696b2c": {
       "attrs": {
        "height": 0.8,
        "width": 0.8,
        "x": 0.1,
        "y": 0.1
       },
       "content": {
        "cell": "1e3b98aa-0252-4548-b2c4-50c64d10064d",
        "part": "whole"
       },
       "id": "395a719d-1249-4ee9-bc13-9ab8bb696b2c"
      }
     }
    }
   },
   "themes": {}
  }
 },
 "nbformat": 4,
 "nbformat_minor": 2
}
